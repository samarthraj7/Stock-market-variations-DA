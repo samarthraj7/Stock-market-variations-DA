{
 "cells": [
  {
   "cell_type": "markdown",
   "id": "29df2f8f",
   "metadata": {
    "id": "kX2wtIQQucpV",
    "papermill": {
     "duration": 0.020808,
     "end_time": "2022-10-16T12:31:51.388697",
     "exception": false,
     "start_time": "2022-10-16T12:31:51.367889",
     "status": "completed"
    },
    "tags": []
   },
   "source": [
    "### Stock Market Prediction And Forecasting Using Stacked LSTM"
   ]
  },
  {
   "cell_type": "code",
   "execution_count": 1,
   "id": "19c20361",
   "metadata": {
    "execution": {
     "iopub.execute_input": "2022-10-16T12:31:51.421992Z",
     "iopub.status.busy": "2022-10-16T12:31:51.420645Z",
     "iopub.status.idle": "2022-10-16T12:31:51.434310Z",
     "shell.execute_reply": "2022-10-16T12:31:51.433434Z"
    },
    "id": "MHhvps6cucpZ",
    "papermill": {
     "duration": 0.032837,
     "end_time": "2022-10-16T12:31:51.436997",
     "exception": false,
     "start_time": "2022-10-16T12:31:51.404160",
     "status": "completed"
    },
    "tags": []
   },
   "outputs": [],
   "source": [
    "import pandas as pd"
   ]
  },
  {
   "cell_type": "markdown",
   "id": "9d605c98",
   "metadata": {
    "papermill": {
     "duration": 0.013546,
     "end_time": "2022-10-16T12:31:51.466035",
     "exception": false,
     "start_time": "2022-10-16T12:31:51.452489",
     "status": "completed"
    },
    "tags": []
   },
   "source": [
    "Data preprocessing is done using the test, validation and test data. We have done the training considering the data availbale.\n",
    "\n",
    "The model that we chose is Stacked LSTM:\n",
    "Stock market prediction is the act of trying to determine the future value of a company stock or other financial instrument traded on a financial exchange.\n",
    "\n",
    "Aim/Objective:\n",
    "In the past decades, there is an increasing interest in predicting markets among economists, policymakers, academics and market makers. The objective of the proposed work is to study and improve the supervised learning algorithms to predict the stock price.\n",
    "\n",
    "\n",
    "Training was done under the following metrics and functions:\n",
    "• Number of layers = 4\n",
    "• Loss Function= Mean Square Error\n",
    "• Optimizer = Adam\n",
    "• Epochs = 100\n",
    "• Batch size = 64\n",
    "\n",
    "The proposed Stock Price Predictor has been successfully trained by using LSTM\n",
    "learning model on the sample datasets and the Stock value prediction process has\n",
    "been successfully performed by the trained LSTM model being tested on the test\n",
    "data set\n",
    "\n",
    "We would say considering the long run and the future predictions , we suggest to choose LSTM over any other model.\n",
    "\n",
    "Main reason to choose this is the previous data has huge impact on the near future, considering the dataset.\n",
    "Here since the data is just 49% , we say this isnt proper , but considering the remaining 51% , this should do good."
   ]
  },
  {
   "cell_type": "code",
   "execution_count": 2,
   "id": "795a49f9",
   "metadata": {
    "execution": {
     "iopub.execute_input": "2022-10-16T12:31:51.503375Z",
     "iopub.status.busy": "2022-10-16T12:31:51.502575Z",
     "iopub.status.idle": "2022-10-16T12:31:51.527578Z",
     "shell.execute_reply": "2022-10-16T12:31:51.525982Z"
    },
    "id": "rBjaDHjRucpZ",
    "papermill": {
     "duration": 0.048373,
     "end_time": "2022-10-16T12:31:51.530382",
     "exception": false,
     "start_time": "2022-10-16T12:31:51.482009",
     "status": "completed"
    },
    "tags": []
   },
   "outputs": [],
   "source": [
    "df=pd.read_csv('../input/data-analytics-ue20cs312/train.csv')"
   ]
  },
  {
   "cell_type": "code",
   "execution_count": 3,
   "id": "2d7014ba",
   "metadata": {
    "execution": {
     "iopub.execute_input": "2022-10-16T12:31:51.559443Z",
     "iopub.status.busy": "2022-10-16T12:31:51.558808Z",
     "iopub.status.idle": "2022-10-16T12:31:51.592261Z",
     "shell.execute_reply": "2022-10-16T12:31:51.591149Z"
    },
    "id": "_ItrK7rRucpZ",
    "outputId": "0dea9c18-2f98-427c-e85f-a048f3b26141",
    "papermill": {
     "duration": 0.051491,
     "end_time": "2022-10-16T12:31:51.595497",
     "exception": false,
     "start_time": "2022-10-16T12:31:51.544006",
     "status": "completed"
    },
    "tags": []
   },
   "outputs": [
    {
     "data": {
      "text/html": [
       "<div>\n",
       "<style scoped>\n",
       "    .dataframe tbody tr th:only-of-type {\n",
       "        vertical-align: middle;\n",
       "    }\n",
       "\n",
       "    .dataframe tbody tr th {\n",
       "        vertical-align: top;\n",
       "    }\n",
       "\n",
       "    .dataframe thead th {\n",
       "        text-align: right;\n",
       "    }\n",
       "</style>\n",
       "<table border=\"1\" class=\"dataframe\">\n",
       "  <thead>\n",
       "    <tr style=\"text-align: right;\">\n",
       "      <th></th>\n",
       "      <th>Date</th>\n",
       "      <th>Open</th>\n",
       "      <th>High</th>\n",
       "      <th>Low</th>\n",
       "      <th>Close</th>\n",
       "      <th>Volume</th>\n",
       "    </tr>\n",
       "  </thead>\n",
       "  <tbody>\n",
       "    <tr>\n",
       "      <th>0</th>\n",
       "      <td>2016-01-04</td>\n",
       "      <td>1099.59</td>\n",
       "      <td>1110.75</td>\n",
       "      <td>1093.85</td>\n",
       "      <td>1109.64</td>\n",
       "      <td>66545000</td>\n",
       "    </tr>\n",
       "    <tr>\n",
       "      <th>1</th>\n",
       "      <td>2016-01-05</td>\n",
       "      <td>1117.47</td>\n",
       "      <td>1130.57</td>\n",
       "      <td>1112.75</td>\n",
       "      <td>1125.85</td>\n",
       "      <td>41227200</td>\n",
       "    </tr>\n",
       "    <tr>\n",
       "      <th>2</th>\n",
       "      <td>2016-01-06</td>\n",
       "      <td>1116.63</td>\n",
       "      <td>1138.68</td>\n",
       "      <td>1116.10</td>\n",
       "      <td>1133.04</td>\n",
       "      <td>42316800</td>\n",
       "    </tr>\n",
       "    <tr>\n",
       "      <th>3</th>\n",
       "      <td>2016-01-07</td>\n",
       "      <td>1122.00</td>\n",
       "      <td>1149.76</td>\n",
       "      <td>1117.56</td>\n",
       "      <td>1143.37</td>\n",
       "      <td>64899600</td>\n",
       "    </tr>\n",
       "    <tr>\n",
       "      <th>4</th>\n",
       "      <td>2016-01-08</td>\n",
       "      <td>1145.64</td>\n",
       "      <td>1149.96</td>\n",
       "      <td>1120.93</td>\n",
       "      <td>1122.88</td>\n",
       "      <td>52138900</td>\n",
       "    </tr>\n",
       "  </tbody>\n",
       "</table>\n",
       "</div>"
      ],
      "text/plain": [
       "         Date     Open     High      Low    Close    Volume\n",
       "0  2016-01-04  1099.59  1110.75  1093.85  1109.64  66545000\n",
       "1  2016-01-05  1117.47  1130.57  1112.75  1125.85  41227200\n",
       "2  2016-01-06  1116.63  1138.68  1116.10  1133.04  42316800\n",
       "3  2016-01-07  1122.00  1149.76  1117.56  1143.37  64899600\n",
       "4  2016-01-08  1145.64  1149.96  1120.93  1122.88  52138900"
      ]
     },
     "execution_count": 3,
     "metadata": {},
     "output_type": "execute_result"
    }
   ],
   "source": [
    "df.head()"
   ]
  },
  {
   "cell_type": "code",
   "execution_count": 4,
   "id": "55638bcb",
   "metadata": {
    "execution": {
     "iopub.execute_input": "2022-10-16T12:31:51.623630Z",
     "iopub.status.busy": "2022-10-16T12:31:51.623177Z",
     "iopub.status.idle": "2022-10-16T12:31:51.637892Z",
     "shell.execute_reply": "2022-10-16T12:31:51.636705Z"
    },
    "id": "dyadjNMOucpa",
    "outputId": "ac3e00ff-cbaa-4fe9-a031-518d837bc165",
    "papermill": {
     "duration": 0.031375,
     "end_time": "2022-10-16T12:31:51.640161",
     "exception": false,
     "start_time": "2022-10-16T12:31:51.608786",
     "status": "completed"
    },
    "tags": []
   },
   "outputs": [
    {
     "data": {
      "text/html": [
       "<div>\n",
       "<style scoped>\n",
       "    .dataframe tbody tr th:only-of-type {\n",
       "        vertical-align: middle;\n",
       "    }\n",
       "\n",
       "    .dataframe tbody tr th {\n",
       "        vertical-align: top;\n",
       "    }\n",
       "\n",
       "    .dataframe thead th {\n",
       "        text-align: right;\n",
       "    }\n",
       "</style>\n",
       "<table border=\"1\" class=\"dataframe\">\n",
       "  <thead>\n",
       "    <tr style=\"text-align: right;\">\n",
       "      <th></th>\n",
       "      <th>Date</th>\n",
       "      <th>Open</th>\n",
       "      <th>High</th>\n",
       "      <th>Low</th>\n",
       "      <th>Close</th>\n",
       "      <th>Volume</th>\n",
       "    </tr>\n",
       "  </thead>\n",
       "  <tbody>\n",
       "    <tr>\n",
       "      <th>1650</th>\n",
       "      <td>2022-07-25</td>\n",
       "      <td>2412.25</td>\n",
       "      <td>2429.44</td>\n",
       "      <td>2387.41</td>\n",
       "      <td>2402.95</td>\n",
       "      <td>29106300</td>\n",
       "    </tr>\n",
       "    <tr>\n",
       "      <th>1651</th>\n",
       "      <td>2022-07-26</td>\n",
       "      <td>2289.29</td>\n",
       "      <td>2307.08</td>\n",
       "      <td>2255.66</td>\n",
       "      <td>2280.27</td>\n",
       "      <td>48503400</td>\n",
       "    </tr>\n",
       "    <tr>\n",
       "      <th>1652</th>\n",
       "      <td>2022-07-27</td>\n",
       "      <td>2309.14</td>\n",
       "      <td>2404.25</td>\n",
       "      <td>2296.82</td>\n",
       "      <td>2395.54</td>\n",
       "      <td>43790900</td>\n",
       "    </tr>\n",
       "    <tr>\n",
       "      <th>1653</th>\n",
       "      <td>2022-07-28</td>\n",
       "      <td>2385.58</td>\n",
       "      <td>2443.26</td>\n",
       "      <td>2377.34</td>\n",
       "      <td>2434.89</td>\n",
       "      <td>25807000</td>\n",
       "    </tr>\n",
       "    <tr>\n",
       "      <th>1654</th>\n",
       "      <td>2022-07-29</td>\n",
       "      <td>2410.86</td>\n",
       "      <td>2479.24</td>\n",
       "      <td>2406.35</td>\n",
       "      <td>2474.93</td>\n",
       "      <td>32907600</td>\n",
       "    </tr>\n",
       "  </tbody>\n",
       "</table>\n",
       "</div>"
      ],
      "text/plain": [
       "            Date     Open     High      Low    Close    Volume\n",
       "1650  2022-07-25  2412.25  2429.44  2387.41  2402.95  29106300\n",
       "1651  2022-07-26  2289.29  2307.08  2255.66  2280.27  48503400\n",
       "1652  2022-07-27  2309.14  2404.25  2296.82  2395.54  43790900\n",
       "1653  2022-07-28  2385.58  2443.26  2377.34  2434.89  25807000\n",
       "1654  2022-07-29  2410.86  2479.24  2406.35  2474.93  32907600"
      ]
     },
     "execution_count": 4,
     "metadata": {},
     "output_type": "execute_result"
    }
   ],
   "source": [
    "df.tail()"
   ]
  },
  {
   "cell_type": "code",
   "execution_count": 5,
   "id": "ff7738bd",
   "metadata": {
    "execution": {
     "iopub.execute_input": "2022-10-16T12:31:51.668828Z",
     "iopub.status.busy": "2022-10-16T12:31:51.668441Z",
     "iopub.status.idle": "2022-10-16T12:31:51.679826Z",
     "shell.execute_reply": "2022-10-16T12:31:51.678629Z"
    },
    "id": "U6guQs2vucpb",
    "papermill": {
     "duration": 0.028406,
     "end_time": "2022-10-16T12:31:51.682103",
     "exception": false,
     "start_time": "2022-10-16T12:31:51.653697",
     "status": "completed"
    },
    "tags": []
   },
   "outputs": [],
   "source": [
    "df1=df.reset_index()['Close']"
   ]
  },
  {
   "cell_type": "code",
   "execution_count": 6,
   "id": "48ce0c81",
   "metadata": {
    "execution": {
     "iopub.execute_input": "2022-10-16T12:31:51.710579Z",
     "iopub.status.busy": "2022-10-16T12:31:51.710098Z",
     "iopub.status.idle": "2022-10-16T12:31:51.720023Z",
     "shell.execute_reply": "2022-10-16T12:31:51.718796Z"
    },
    "id": "7jbx8BqIucpb",
    "outputId": "ecc78152-fb05-444a-f771-7c4f8f6b7fcd",
    "papermill": {
     "duration": 0.026974,
     "end_time": "2022-10-16T12:31:51.722349",
     "exception": false,
     "start_time": "2022-10-16T12:31:51.695375",
     "status": "completed"
    },
    "tags": []
   },
   "outputs": [
    {
     "data": {
      "text/plain": [
       "0       1109.64\n",
       "1       1125.85\n",
       "2       1133.04\n",
       "3       1143.37\n",
       "4       1122.88\n",
       "         ...   \n",
       "1650    2402.95\n",
       "1651    2280.27\n",
       "1652    2395.54\n",
       "1653    2434.89\n",
       "1654    2474.93\n",
       "Name: Close, Length: 1655, dtype: float64"
      ]
     },
     "execution_count": 6,
     "metadata": {},
     "output_type": "execute_result"
    }
   ],
   "source": [
    "df1"
   ]
  },
  {
   "cell_type": "code",
   "execution_count": 7,
   "id": "bf6015b1",
   "metadata": {
    "execution": {
     "iopub.execute_input": "2022-10-16T12:31:51.751385Z",
     "iopub.status.busy": "2022-10-16T12:31:51.750716Z",
     "iopub.status.idle": "2022-10-16T12:31:52.022638Z",
     "shell.execute_reply": "2022-10-16T12:31:52.021752Z"
    },
    "id": "_8LPniRaucpb",
    "outputId": "eee1410f-2392-4a6a-c526-038cf60b3b13",
    "papermill": {
     "duration": 0.289244,
     "end_time": "2022-10-16T12:31:52.025016",
     "exception": false,
     "start_time": "2022-10-16T12:31:51.735772",
     "status": "completed"
    },
    "tags": []
   },
   "outputs": [
    {
     "data": {
      "text/plain": [
       "[<matplotlib.lines.Line2D at 0x7ff29065f950>]"
      ]
     },
     "execution_count": 7,
     "metadata": {},
     "output_type": "execute_result"
    },
    {
     "data": {
      "image/png": "[encoded data removed]",
      "text/plain": [
       "<Figure size 432x288 with 1 Axes>"
      ]
     },
     "metadata": {
      "needs_background": "light"
     },
     "output_type": "display_data"
    }
   ],
   "source": [
    "import matplotlib.pyplot as plt\n",
    "plt.plot(df1)"
   ]
  },
  {
   "cell_type": "code",
   "execution_count": 8,
   "id": "f3886b52",
   "metadata": {
    "execution": {
     "iopub.execute_input": "2022-10-16T12:31:52.054640Z",
     "iopub.status.busy": "2022-10-16T12:31:52.054221Z",
     "iopub.status.idle": "2022-10-16T12:31:52.059482Z",
     "shell.execute_reply": "2022-10-16T12:31:52.058311Z"
    },
    "id": "nhXtdLtgucpb",
    "papermill": {
     "duration": 0.023105,
     "end_time": "2022-10-16T12:31:52.062057",
     "exception": false,
     "start_time": "2022-10-16T12:31:52.038952",
     "status": "completed"
    },
    "tags": []
   },
   "outputs": [],
   "source": [
    "### LSTM are sensitive to the scale of the data. so we apply MinMax scaler "
   ]
  },
  {
   "cell_type": "code",
   "execution_count": 9,
   "id": "e036961f",
   "metadata": {
    "execution": {
     "iopub.execute_input": "2022-10-16T12:31:52.094263Z",
     "iopub.status.busy": "2022-10-16T12:31:52.093845Z",
     "iopub.status.idle": "2022-10-16T12:31:52.098973Z",
     "shell.execute_reply": "2022-10-16T12:31:52.097770Z"
    },
    "id": "sJBRReyPucpc",
    "papermill": {
     "duration": 0.026012,
     "end_time": "2022-10-16T12:31:52.101976",
     "exception": false,
     "start_time": "2022-10-16T12:31:52.075964",
     "status": "completed"
    },
    "tags": []
   },
   "outputs": [],
   "source": [
    "import numpy as np"
   ]
  },
  {
   "cell_type": "code",
   "execution_count": 10,
   "id": "1dc87462",
   "metadata": {
    "execution": {
     "iopub.execute_input": "2022-10-16T12:31:52.131992Z",
     "iopub.status.busy": "2022-10-16T12:31:52.131585Z",
     "iopub.status.idle": "2022-10-16T12:31:52.140351Z",
     "shell.execute_reply": "2022-10-16T12:31:52.139580Z"
    },
    "id": "iNix6XDFucpc",
    "outputId": "8d9e6f44-0590-4962-a198-63a13d46d261",
    "papermill": {
     "duration": 0.026468,
     "end_time": "2022-10-16T12:31:52.142615",
     "exception": false,
     "start_time": "2022-10-16T12:31:52.116147",
     "status": "completed"
    },
    "tags": []
   },
   "outputs": [
    {
     "data": {
      "text/plain": [
       "0       1109.64\n",
       "1       1125.85\n",
       "2       1133.04\n",
       "3       1143.37\n",
       "4       1122.88\n",
       "         ...   \n",
       "1650    2402.95\n",
       "1651    2280.27\n",
       "1652    2395.54\n",
       "1653    2434.89\n",
       "1654    2474.93\n",
       "Name: Close, Length: 1655, dtype: float64"
      ]
     },
     "execution_count": 10,
     "metadata": {},
     "output_type": "execute_result"
    }
   ],
   "source": [
    "df1"
   ]
  },
  {
   "cell_type": "code",
   "execution_count": 11,
   "id": "f06613d3",
   "metadata": {
    "execution": {
     "iopub.execute_input": "2022-10-16T12:31:52.173799Z",
     "iopub.status.busy": "2022-10-16T12:31:52.172513Z",
     "iopub.status.idle": "2022-10-16T12:31:53.315259Z",
     "shell.execute_reply": "2022-10-16T12:31:53.314048Z"
    },
    "id": "0zT5P-pPucpc",
    "papermill": {
     "duration": 1.161377,
     "end_time": "2022-10-16T12:31:53.318032",
     "exception": false,
     "start_time": "2022-10-16T12:31:52.156655",
     "status": "completed"
    },
    "tags": []
   },
   "outputs": [],
   "source": [
    "from sklearn.preprocessing import MinMaxScaler\n",
    "scaler=MinMaxScaler(feature_range=(0,1))\n",
    "df1=scaler.fit_transform(np.array(df1).reshape(-1,1))"
   ]
  },
  {
   "cell_type": "code",
   "execution_count": 12,
   "id": "612a8672",
   "metadata": {
    "execution": {
     "iopub.execute_input": "2022-10-16T12:31:53.349458Z",
     "iopub.status.busy": "2022-10-16T12:31:53.349024Z",
     "iopub.status.idle": "2022-10-16T12:31:53.356854Z",
     "shell.execute_reply": "2022-10-16T12:31:53.355743Z"
    },
    "id": "RqxDqxFNucpc",
    "outputId": "c08462d0-2d3d-4644-f97a-54e3a76d852a",
    "papermill": {
     "duration": 0.026251,
     "end_time": "2022-10-16T12:31:53.359303",
     "exception": false,
     "start_time": "2022-10-16T12:31:53.333052",
     "status": "completed"
    },
    "tags": []
   },
   "outputs": [
    {
     "name": "stdout",
     "output_type": "stream",
     "text": [
      "[[0.01192852]\n",
      " [0.02066998]\n",
      " [0.02454729]\n",
      " ...\n",
      " [0.70536783]\n",
      " [0.72658786]\n",
      " [0.74817998]]\n"
     ]
    }
   ],
   "source": [
    "print(df1)"
   ]
  },
  {
   "cell_type": "code",
   "execution_count": 13,
   "id": "43db061d",
   "metadata": {
    "execution": {
     "iopub.execute_input": "2022-10-16T12:31:53.389828Z",
     "iopub.status.busy": "2022-10-16T12:31:53.389430Z",
     "iopub.status.idle": "2022-10-16T12:31:53.395238Z",
     "shell.execute_reply": "2022-10-16T12:31:53.394032Z"
    },
    "id": "mQLOmFvsucpc",
    "papermill": {
     "duration": 0.023933,
     "end_time": "2022-10-16T12:31:53.397473",
     "exception": false,
     "start_time": "2022-10-16T12:31:53.373540",
     "status": "completed"
    },
    "tags": []
   },
   "outputs": [],
   "source": [
    "##splitting dataset into train and test split\n",
    "training_size=int(len(df1)*0.65)\n",
    "test_size=len(df1)-training_size\n",
    "train_data,test_data=df1[0:training_size,:],df1[training_size:len(df1),:1]"
   ]
  },
  {
   "cell_type": "code",
   "execution_count": 14,
   "id": "194d9699",
   "metadata": {
    "execution": {
     "iopub.execute_input": "2022-10-16T12:31:53.427390Z",
     "iopub.status.busy": "2022-10-16T12:31:53.426759Z",
     "iopub.status.idle": "2022-10-16T12:31:53.433383Z",
     "shell.execute_reply": "2022-10-16T12:31:53.432483Z"
    },
    "id": "mZ_5pK79ucpd",
    "outputId": "a726f110-45a9-40a2-816f-a657ec79038b",
    "papermill": {
     "duration": 0.024205,
     "end_time": "2022-10-16T12:31:53.435521",
     "exception": false,
     "start_time": "2022-10-16T12:31:53.411316",
     "status": "completed"
    },
    "tags": []
   },
   "outputs": [
    {
     "data": {
      "text/plain": [
       "(1075, 580)"
      ]
     },
     "execution_count": 14,
     "metadata": {},
     "output_type": "execute_result"
    }
   ],
   "source": [
    "training_size,test_size"
   ]
  },
  {
   "cell_type": "code",
   "execution_count": 15,
   "id": "629bd285",
   "metadata": {
    "execution": {
     "iopub.execute_input": "2022-10-16T12:31:53.466492Z",
     "iopub.status.busy": "2022-10-16T12:31:53.466047Z",
     "iopub.status.idle": "2022-10-16T12:31:53.473288Z",
     "shell.execute_reply": "2022-10-16T12:31:53.472368Z"
    },
    "id": "OtybCCL3ucpd",
    "outputId": "063951ae-6457-4412-ad74-20254307afcc",
    "papermill": {
     "duration": 0.02548,
     "end_time": "2022-10-16T12:31:53.475383",
     "exception": false,
     "start_time": "2022-10-16T12:31:53.449903",
     "status": "completed"
    },
    "tags": []
   },
   "outputs": [
    {
     "data": {
      "text/plain": [
       "array([[0.01192852],\n",
       "       [0.02066998],\n",
       "       [0.02454729],\n",
       "       ...,\n",
       "       [0.45932333],\n",
       "       [0.4622731 ],\n",
       "       [0.46221918]])"
      ]
     },
     "execution_count": 15,
     "metadata": {},
     "output_type": "execute_result"
    }
   ],
   "source": [
    "train_data"
   ]
  },
  {
   "cell_type": "code",
   "execution_count": 16,
   "id": "517978ae",
   "metadata": {
    "execution": {
     "iopub.execute_input": "2022-10-16T12:31:53.505531Z",
     "iopub.status.busy": "2022-10-16T12:31:53.505106Z",
     "iopub.status.idle": "2022-10-16T12:31:53.512445Z",
     "shell.execute_reply": "2022-10-16T12:31:53.510641Z"
    },
    "id": "9J9-mer-ye4f",
    "outputId": "1d8a7195-72a8-455c-b099-853fe0bfe236",
    "papermill": {
     "duration": 0.025747,
     "end_time": "2022-10-16T12:31:53.515228",
     "exception": false,
     "start_time": "2022-10-16T12:31:53.489481",
     "status": "completed"
    },
    "tags": []
   },
   "outputs": [
    {
     "data": {
      "text/plain": [
       "(1075, 1)"
      ]
     },
     "execution_count": 16,
     "metadata": {},
     "output_type": "execute_result"
    }
   ],
   "source": [
    "train_data.shape"
   ]
  },
  {
   "cell_type": "code",
   "execution_count": 17,
   "id": "9d0e2580",
   "metadata": {
    "execution": {
     "iopub.execute_input": "2022-10-16T12:31:53.546147Z",
     "iopub.status.busy": "2022-10-16T12:31:53.545244Z",
     "iopub.status.idle": "2022-10-16T12:31:53.552798Z",
     "shell.execute_reply": "2022-10-16T12:31:53.551974Z"
    },
    "id": "aCMb6OD6ucpd",
    "papermill": {
     "duration": 0.025441,
     "end_time": "2022-10-16T12:31:53.555114",
     "exception": false,
     "start_time": "2022-10-16T12:31:53.529673",
     "status": "completed"
    },
    "tags": []
   },
   "outputs": [],
   "source": [
    "import numpy\n",
    "# convert an array of values into a dataset matrix\n",
    "def create_dataset(dataset, time_step=1):\n",
    "\tdataX, dataY = [], []\n",
    "\tfor i in range(len(dataset)-time_step-1):\n",
    "\t\ta = dataset[i:(i+time_step), 0]   ###i=0, 0,1,2,3-----99   100 \n",
    "\t\tdataX.append(a)\n",
    "\t\tdataY.append(dataset[i + time_step, 0])\n",
    "\treturn numpy.array(dataX), numpy.array(dataY)"
   ]
  },
  {
   "cell_type": "code",
   "execution_count": 18,
   "id": "70109db3",
   "metadata": {
    "execution": {
     "iopub.execute_input": "2022-10-16T12:31:53.585851Z",
     "iopub.status.busy": "2022-10-16T12:31:53.585488Z",
     "iopub.status.idle": "2022-10-16T12:31:53.594682Z",
     "shell.execute_reply": "2022-10-16T12:31:53.593587Z"
    },
    "id": "f6FVheQhucpd",
    "papermill": {
     "duration": 0.027236,
     "end_time": "2022-10-16T12:31:53.597250",
     "exception": false,
     "start_time": "2022-10-16T12:31:53.570014",
     "status": "completed"
    },
    "tags": []
   },
   "outputs": [],
   "source": [
    "# reshape into X=t,t+1,t+2,t+3 and Y=t+4\n",
    "time_step = 100\n",
    "X_train, y_train = create_dataset(train_data, time_step)\n",
    "X_test, ytest = create_dataset(test_data, time_step)"
   ]
  },
  {
   "cell_type": "code",
   "execution_count": 19,
   "id": "1499cd4b",
   "metadata": {
    "execution": {
     "iopub.execute_input": "2022-10-16T12:31:53.627865Z",
     "iopub.status.busy": "2022-10-16T12:31:53.627279Z",
     "iopub.status.idle": "2022-10-16T12:31:53.636105Z",
     "shell.execute_reply": "2022-10-16T12:31:53.634664Z"
    },
    "id": "udzyjsoXucpd",
    "outputId": "39d18565-14cb-4aad-d82c-dbf530e016c1",
    "papermill": {
     "duration": 0.027486,
     "end_time": "2022-10-16T12:31:53.639174",
     "exception": false,
     "start_time": "2022-10-16T12:31:53.611688",
     "status": "completed"
    },
    "tags": []
   },
   "outputs": [
    {
     "name": "stdout",
     "output_type": "stream",
     "text": [
      "(974, 100)\n",
      "(974,)\n"
     ]
    },
    {
     "data": {
      "text/plain": [
       "(None, None)"
      ]
     },
     "execution_count": 19,
     "metadata": {},
     "output_type": "execute_result"
    }
   ],
   "source": [
    "print(X_train.shape), print(y_train.shape)"
   ]
  },
  {
   "cell_type": "code",
   "execution_count": 20,
   "id": "9dfa3e1d",
   "metadata": {
    "execution": {
     "iopub.execute_input": "2022-10-16T12:31:53.671078Z",
     "iopub.status.busy": "2022-10-16T12:31:53.670693Z",
     "iopub.status.idle": "2022-10-16T12:31:53.679739Z",
     "shell.execute_reply": "2022-10-16T12:31:53.678002Z"
    },
    "id": "bBAiRBxgucpe",
    "outputId": "0b123016-00f3-4119-efe6-b4579b1f5c7c",
    "papermill": {
     "duration": 0.027669,
     "end_time": "2022-10-16T12:31:53.682322",
     "exception": false,
     "start_time": "2022-10-16T12:31:53.654653",
     "status": "completed"
    },
    "tags": []
   },
   "outputs": [
    {
     "name": "stdout",
     "output_type": "stream",
     "text": [
      "(479, 100)\n",
      "(479,)\n"
     ]
    },
    {
     "data": {
      "text/plain": [
       "(None, None)"
      ]
     },
     "execution_count": 20,
     "metadata": {},
     "output_type": "execute_result"
    }
   ],
   "source": [
    "print(X_test.shape), print(ytest.shape)"
   ]
  },
  {
   "cell_type": "code",
   "execution_count": 21,
   "id": "acf58687",
   "metadata": {
    "execution": {
     "iopub.execute_input": "2022-10-16T12:31:53.714533Z",
     "iopub.status.busy": "2022-10-16T12:31:53.714118Z",
     "iopub.status.idle": "2022-10-16T12:31:53.719699Z",
     "shell.execute_reply": "2022-10-16T12:31:53.718471Z"
    },
    "id": "BQ5mxVQTucpe",
    "papermill": {
     "duration": 0.024849,
     "end_time": "2022-10-16T12:31:53.721974",
     "exception": false,
     "start_time": "2022-10-16T12:31:53.697125",
     "status": "completed"
    },
    "tags": []
   },
   "outputs": [],
   "source": [
    "# reshape input to be [samples, time steps, features] which is required for LSTM\n",
    "X_train =X_train.reshape(X_train.shape[0],X_train.shape[1] , 1)\n",
    "X_test = X_test.reshape(X_test.shape[0],X_test.shape[1] , 1)"
   ]
  },
  {
   "cell_type": "code",
   "execution_count": 22,
   "id": "0160efb3",
   "metadata": {
    "execution": {
     "iopub.execute_input": "2022-10-16T12:31:53.753620Z",
     "iopub.status.busy": "2022-10-16T12:31:53.753217Z",
     "iopub.status.idle": "2022-10-16T12:32:00.543289Z",
     "shell.execute_reply": "2022-10-16T12:32:00.542178Z"
    },
    "id": "zpQSFLKOucpe",
    "papermill": {
     "duration": 6.809581,
     "end_time": "2022-10-16T12:32:00.546184",
     "exception": false,
     "start_time": "2022-10-16T12:31:53.736603",
     "status": "completed"
    },
    "tags": []
   },
   "outputs": [],
   "source": [
    "import tensorflow\n",
    "### Create the Stacked LSTM model\n",
    "from tensorflow.keras.models import Sequential\n",
    "from tensorflow.keras.layers import Dense\n",
    "from tensorflow.keras.layers import LSTM"
   ]
  },
  {
   "cell_type": "code",
   "execution_count": 23,
   "id": "f586503e",
   "metadata": {
    "execution": {
     "iopub.execute_input": "2022-10-16T12:32:00.579225Z",
     "iopub.status.busy": "2022-10-16T12:32:00.577890Z",
     "iopub.status.idle": "2022-10-16T12:32:01.497549Z",
     "shell.execute_reply": "2022-10-16T12:32:01.496341Z"
    },
    "id": "RtkvFQfNucpe",
    "papermill": {
     "duration": 0.939094,
     "end_time": "2022-10-16T12:32:01.500492",
     "exception": false,
     "start_time": "2022-10-16T12:32:00.561398",
     "status": "completed"
    },
    "tags": []
   },
   "outputs": [
    {
     "name": "stderr",
     "output_type": "stream",
     "text": [
      "2022-10-16 12:32:00.619948: I tensorflow/core/common_runtime/process_util.cc:146] Creating new thread pool with default inter op setting: 2. Tune using inter_op_parallelism_threads for best performance.\n"
     ]
    }
   ],
   "source": [
    "model=Sequential()\n",
    "model.add(LSTM(50,return_sequences=True,input_shape=(100,1)))\n",
    "model.add(LSTM(50,return_sequences=True))\n",
    "model.add(LSTM(50))\n",
    "model.add(Dense(1))\n",
    "model.compile(loss='mean_squared_error',optimizer='adam')\n"
   ]
  },
  {
   "cell_type": "code",
   "execution_count": 24,
   "id": "3b8bad8b",
   "metadata": {
    "execution": {
     "iopub.execute_input": "2022-10-16T12:32:01.532615Z",
     "iopub.status.busy": "2022-10-16T12:32:01.531962Z",
     "iopub.status.idle": "2022-10-16T12:32:01.539203Z",
     "shell.execute_reply": "2022-10-16T12:32:01.537929Z"
    },
    "id": "wqM3ns46ucpe",
    "outputId": "fabc0612-06ac-45cc-dbf7-cc8b66e65a0b",
    "papermill": {
     "duration": 0.026321,
     "end_time": "2022-10-16T12:32:01.541922",
     "exception": false,
     "start_time": "2022-10-16T12:32:01.515601",
     "status": "completed"
    },
    "tags": []
   },
   "outputs": [
    {
     "name": "stdout",
     "output_type": "stream",
     "text": [
      "Model: \"sequential\"\n",
      "_________________________________________________________________\n",
      "Layer (type)                 Output Shape              Param #   \n",
      "=================================================================\n",
      "lstm (LSTM)                  (None, 100, 50)           10400     \n",
      "_________________________________________________________________\n",
      "lstm_1 (LSTM)                (None, 100, 50)           20200     \n",
      "_________________________________________________________________\n",
      "lstm_2 (LSTM)                (None, 50)                20200     \n",
      "_________________________________________________________________\n",
      "dense (Dense)                (None, 1)                 51        \n",
      "=================================================================\n",
      "Total params: 50,851\n",
      "Trainable params: 50,851\n",
      "Non-trainable params: 0\n",
      "_________________________________________________________________\n"
     ]
    }
   ],
   "source": [
    "model.summary()"
   ]
  },
  {
   "cell_type": "code",
   "execution_count": 25,
   "id": "8e7cafc3",
   "metadata": {
    "execution": {
     "iopub.execute_input": "2022-10-16T12:32:01.574144Z",
     "iopub.status.busy": "2022-10-16T12:32:01.572894Z",
     "iopub.status.idle": "2022-10-16T12:32:01.582657Z",
     "shell.execute_reply": "2022-10-16T12:32:01.581617Z"
    },
    "id": "WvQh0us_ucpe",
    "outputId": "cbece4ac-9657-4ae8-8088-3ee73cf88cf6",
    "papermill": {
     "duration": 0.028475,
     "end_time": "2022-10-16T12:32:01.585526",
     "exception": false,
     "start_time": "2022-10-16T12:32:01.557051",
     "status": "completed"
    },
    "tags": []
   },
   "outputs": [
    {
     "name": "stdout",
     "output_type": "stream",
     "text": [
      "Model: \"sequential\"\n",
      "_________________________________________________________________\n",
      "Layer (type)                 Output Shape              Param #   \n",
      "=================================================================\n",
      "lstm (LSTM)                  (None, 100, 50)           10400     \n",
      "_________________________________________________________________\n",
      "lstm_1 (LSTM)                (None, 100, 50)           20200     \n",
      "_________________________________________________________________\n",
      "lstm_2 (LSTM)                (None, 50)                20200     \n",
      "_________________________________________________________________\n",
      "dense (Dense)                (None, 1)                 51        \n",
      "=================================================================\n",
      "Total params: 50,851\n",
      "Trainable params: 50,851\n",
      "Non-trainable params: 0\n",
      "_________________________________________________________________\n"
     ]
    }
   ],
   "source": [
    "model.summary()"
   ]
  },
  {
   "cell_type": "code",
   "execution_count": null,
   "id": "84bc3935",
   "metadata": {
    "id": "-ZwtZ4yqucpf",
    "papermill": {
     "duration": 0.014419,
     "end_time": "2022-10-16T12:32:01.615173",
     "exception": false,
     "start_time": "2022-10-16T12:32:01.600754",
     "status": "completed"
    },
    "tags": []
   },
   "outputs": [],
   "source": []
  },
  {
   "cell_type": "code",
   "execution_count": 26,
   "id": "4317878a",
   "metadata": {
    "execution": {
     "iopub.execute_input": "2022-10-16T12:32:01.648173Z",
     "iopub.status.busy": "2022-10-16T12:32:01.647772Z",
     "iopub.status.idle": "2022-10-16T12:39:49.632321Z",
     "shell.execute_reply": "2022-10-16T12:39:49.631073Z"
    },
    "id": "0qaaxu4yucpf",
    "outputId": "7a3a396b-7a01-40c6-97f1-c65935f9978a",
    "papermill": {
     "duration": 468.003328,
     "end_time": "2022-10-16T12:39:49.634920",
     "exception": false,
     "start_time": "2022-10-16T12:32:01.631592",
     "status": "completed"
    },
    "tags": []
   },
   "outputs": [
    {
     "name": "stderr",
     "output_type": "stream",
     "text": [
      "2022-10-16 12:32:01.708886: I tensorflow/compiler/mlir/mlir_graph_optimization_pass.cc:185] None of the MLIR Optimization Passes are enabled (registered 2)\n"
     ]
    },
    {
     "name": "stdout",
     "output_type": "stream",
     "text": [
      "Epoch 1/100\n",
      "16/16 [==============================] - 12s 372ms/step - loss: 0.0195 - val_loss: 0.1176\n",
      "Epoch 2/100\n",
      "16/16 [==============================] - 4s 282ms/step - loss: 0.0029 - val_loss: 0.0277\n",
      "Epoch 3/100\n",
      "16/16 [==============================] - 5s 320ms/step - loss: 9.5343e-04 - val_loss: 0.0028\n",
      "Epoch 4/100\n",
      "16/16 [==============================] - 4s 281ms/step - loss: 5.5631e-04 - val_loss: 0.0032\n",
      "Epoch 5/100\n",
      "16/16 [==============================] - 4s 283ms/step - loss: 4.9550e-04 - val_loss: 0.0026\n",
      "Epoch 6/100\n",
      "16/16 [==============================] - 4s 282ms/step - loss: 4.5855e-04 - val_loss: 0.0026\n",
      "Epoch 7/100\n",
      "16/16 [==============================] - 4s 277ms/step - loss: 4.4498e-04 - val_loss: 0.0037\n",
      "Epoch 8/100\n",
      "16/16 [==============================] - 4s 275ms/step - loss: 4.4015e-04 - val_loss: 0.0042\n",
      "Epoch 9/100\n",
      "16/16 [==============================] - 5s 284ms/step - loss: 4.3087e-04 - val_loss: 0.0054\n",
      "Epoch 10/100\n",
      "16/16 [==============================] - 5s 317ms/step - loss: 5.2185e-04 - val_loss: 0.0031\n",
      "Epoch 11/100\n",
      "16/16 [==============================] - 4s 281ms/step - loss: 4.2632e-04 - val_loss: 0.0031\n",
      "Epoch 12/100\n",
      "16/16 [==============================] - 4s 279ms/step - loss: 4.0628e-04 - val_loss: 0.0040\n",
      "Epoch 13/100\n",
      "16/16 [==============================] - 4s 276ms/step - loss: 4.0643e-04 - val_loss: 0.0033\n",
      "Epoch 14/100\n",
      "16/16 [==============================] - 4s 284ms/step - loss: 3.9727e-04 - val_loss: 0.0041\n",
      "Epoch 15/100\n",
      "16/16 [==============================] - 4s 276ms/step - loss: 3.8397e-04 - val_loss: 0.0058\n",
      "Epoch 16/100\n",
      "16/16 [==============================] - 4s 283ms/step - loss: 4.0786e-04 - val_loss: 0.0021\n",
      "Epoch 17/100\n",
      "16/16 [==============================] - 5s 317ms/step - loss: 3.8483e-04 - val_loss: 0.0047\n",
      "Epoch 18/100\n",
      "16/16 [==============================] - 4s 277ms/step - loss: 3.5783e-04 - val_loss: 0.0039\n",
      "Epoch 19/100\n",
      "16/16 [==============================] - 4s 283ms/step - loss: 3.5243e-04 - val_loss: 0.0029\n",
      "Epoch 20/100\n",
      "16/16 [==============================] - 4s 276ms/step - loss: 3.9649e-04 - val_loss: 0.0025\n",
      "Epoch 21/100\n",
      "16/16 [==============================] - 4s 281ms/step - loss: 3.5043e-04 - val_loss: 0.0036\n",
      "Epoch 22/100\n",
      "16/16 [==============================] - 4s 275ms/step - loss: 3.2945e-04 - val_loss: 0.0016\n",
      "Epoch 23/100\n",
      "16/16 [==============================] - 4s 280ms/step - loss: 3.8946e-04 - val_loss: 0.0022\n",
      "Epoch 24/100\n",
      "16/16 [==============================] - 5s 333ms/step - loss: 3.4244e-04 - val_loss: 0.0040\n",
      "Epoch 25/100\n",
      "16/16 [==============================] - 4s 277ms/step - loss: 3.4266e-04 - val_loss: 0.0050\n",
      "Epoch 26/100\n",
      "16/16 [==============================] - 4s 279ms/step - loss: 3.2460e-04 - val_loss: 0.0033\n",
      "Epoch 27/100\n",
      "16/16 [==============================] - 4s 278ms/step - loss: 3.1501e-04 - val_loss: 0.0029\n",
      "Epoch 28/100\n",
      "16/16 [==============================] - 4s 281ms/step - loss: 3.1738e-04 - val_loss: 0.0013\n",
      "Epoch 29/100\n",
      "16/16 [==============================] - 4s 277ms/step - loss: 3.3660e-04 - val_loss: 0.0014\n",
      "Epoch 30/100\n",
      "16/16 [==============================] - 4s 276ms/step - loss: 3.2187e-04 - val_loss: 0.0018\n",
      "Epoch 31/100\n",
      "16/16 [==============================] - 5s 321ms/step - loss: 3.2099e-04 - val_loss: 0.0022\n",
      "Epoch 32/100\n",
      "16/16 [==============================] - 4s 283ms/step - loss: 2.9086e-04 - val_loss: 0.0023\n",
      "Epoch 33/100\n",
      "16/16 [==============================] - 5s 284ms/step - loss: 3.0087e-04 - val_loss: 0.0012\n",
      "Epoch 34/100\n",
      "16/16 [==============================] - 4s 280ms/step - loss: 3.1599e-04 - val_loss: 0.0015\n",
      "Epoch 35/100\n",
      "16/16 [==============================] - 4s 280ms/step - loss: 3.0168e-04 - val_loss: 0.0015\n",
      "Epoch 36/100\n",
      "16/16 [==============================] - 5s 285ms/step - loss: 3.0041e-04 - val_loss: 0.0020\n",
      "Epoch 37/100\n",
      "16/16 [==============================] - 4s 278ms/step - loss: 2.8189e-04 - val_loss: 0.0012\n",
      "Epoch 38/100\n",
      "16/16 [==============================] - 5s 328ms/step - loss: 2.8240e-04 - val_loss: 0.0013\n",
      "Epoch 39/100\n",
      "16/16 [==============================] - 5s 283ms/step - loss: 2.6540e-04 - val_loss: 0.0019\n",
      "Epoch 40/100\n",
      "16/16 [==============================] - 5s 291ms/step - loss: 2.7357e-04 - val_loss: 0.0013\n",
      "Epoch 41/100\n",
      "16/16 [==============================] - 4s 281ms/step - loss: 2.8863e-04 - val_loss: 0.0011\n",
      "Epoch 42/100\n",
      "16/16 [==============================] - 4s 277ms/step - loss: 2.7778e-04 - val_loss: 0.0012\n",
      "Epoch 43/100\n",
      "16/16 [==============================] - 4s 281ms/step - loss: 2.8831e-04 - val_loss: 0.0014\n",
      "Epoch 44/100\n",
      "16/16 [==============================] - 4s 279ms/step - loss: 2.6804e-04 - val_loss: 0.0011\n",
      "Epoch 45/100\n",
      "16/16 [==============================] - 5s 305ms/step - loss: 2.6605e-04 - val_loss: 0.0013\n",
      "Epoch 46/100\n",
      "16/16 [==============================] - 5s 288ms/step - loss: 2.5375e-04 - val_loss: 0.0012\n",
      "Epoch 47/100\n",
      "16/16 [==============================] - 5s 284ms/step - loss: 2.5777e-04 - val_loss: 0.0011\n",
      "Epoch 48/100\n",
      "16/16 [==============================] - 4s 281ms/step - loss: 2.5986e-04 - val_loss: 0.0013\n",
      "Epoch 49/100\n",
      "16/16 [==============================] - 4s 280ms/step - loss: 2.5447e-04 - val_loss: 0.0016\n",
      "Epoch 50/100\n",
      "16/16 [==============================] - 4s 283ms/step - loss: 2.4951e-04 - val_loss: 0.0010\n",
      "Epoch 51/100\n",
      "16/16 [==============================] - 5s 319ms/step - loss: 2.4790e-04 - val_loss: 9.1863e-04\n",
      "Epoch 52/100\n",
      "16/16 [==============================] - 5s 288ms/step - loss: 2.4928e-04 - val_loss: 0.0011\n",
      "Epoch 53/100\n",
      "16/16 [==============================] - 5s 294ms/step - loss: 2.5796e-04 - val_loss: 0.0013\n",
      "Epoch 54/100\n",
      "16/16 [==============================] - 5s 286ms/step - loss: 2.4415e-04 - val_loss: 0.0034\n",
      "Epoch 55/100\n",
      "16/16 [==============================] - 4s 283ms/step - loss: 3.1850e-04 - val_loss: 0.0019\n",
      "Epoch 56/100\n",
      "16/16 [==============================] - 4s 278ms/step - loss: 2.9367e-04 - val_loss: 9.7651e-04\n",
      "Epoch 57/100\n",
      "16/16 [==============================] - 4s 280ms/step - loss: 2.5663e-04 - val_loss: 9.2254e-04\n",
      "Epoch 58/100\n",
      "16/16 [==============================] - 5s 324ms/step - loss: 2.3825e-04 - val_loss: 9.6603e-04\n",
      "Epoch 59/100\n",
      "16/16 [==============================] - 5s 288ms/step - loss: 2.3959e-04 - val_loss: 8.5679e-04\n",
      "Epoch 60/100\n",
      "16/16 [==============================] - 4s 282ms/step - loss: 2.4380e-04 - val_loss: 0.0014\n",
      "Epoch 61/100\n",
      "16/16 [==============================] - 4s 274ms/step - loss: 2.5814e-04 - val_loss: 0.0021\n",
      "Epoch 62/100\n",
      "16/16 [==============================] - 4s 283ms/step - loss: 2.3576e-04 - val_loss: 0.0020\n",
      "Epoch 63/100\n",
      "16/16 [==============================] - 4s 276ms/step - loss: 2.3976e-04 - val_loss: 0.0014\n",
      "Epoch 64/100\n",
      "16/16 [==============================] - 4s 277ms/step - loss: 2.5696e-04 - val_loss: 0.0025\n",
      "Epoch 65/100\n",
      "16/16 [==============================] - 5s 325ms/step - loss: 2.6951e-04 - val_loss: 0.0011\n",
      "Epoch 66/100\n",
      "16/16 [==============================] - 4s 275ms/step - loss: 2.8043e-04 - val_loss: 9.3507e-04\n",
      "Epoch 67/100\n",
      "16/16 [==============================] - 5s 287ms/step - loss: 2.5377e-04 - val_loss: 0.0017\n",
      "Epoch 68/100\n",
      "16/16 [==============================] - 4s 283ms/step - loss: 2.3940e-04 - val_loss: 0.0025\n",
      "Epoch 69/100\n",
      "16/16 [==============================] - 5s 290ms/step - loss: 2.2198e-04 - val_loss: 9.6344e-04\n",
      "Epoch 70/100\n",
      "16/16 [==============================] - 4s 282ms/step - loss: 2.1238e-04 - val_loss: 8.6335e-04\n",
      "Epoch 71/100\n",
      "16/16 [==============================] - 5s 287ms/step - loss: 2.0968e-04 - val_loss: 8.5739e-04\n",
      "Epoch 72/100\n",
      "16/16 [==============================] - 5s 325ms/step - loss: 2.0953e-04 - val_loss: 9.7287e-04\n",
      "Epoch 73/100\n",
      "16/16 [==============================] - 4s 280ms/step - loss: 2.0822e-04 - val_loss: 7.0649e-04\n",
      "Epoch 74/100\n",
      "16/16 [==============================] - 5s 291ms/step - loss: 2.6888e-04 - val_loss: 0.0052\n",
      "Epoch 75/100\n",
      "16/16 [==============================] - 5s 299ms/step - loss: 3.3606e-04 - val_loss: 0.0019\n",
      "Epoch 76/100\n",
      "16/16 [==============================] - 5s 298ms/step - loss: 2.0543e-04 - val_loss: 9.0405e-04\n",
      "Epoch 77/100\n",
      "16/16 [==============================] - 5s 289ms/step - loss: 2.0542e-04 - val_loss: 7.4953e-04\n",
      "Epoch 78/100\n",
      "16/16 [==============================] - 5s 327ms/step - loss: 1.9872e-04 - val_loss: 9.2743e-04\n",
      "Epoch 79/100\n",
      "16/16 [==============================] - 5s 293ms/step - loss: 2.0251e-04 - val_loss: 8.8912e-04\n",
      "Epoch 80/100\n",
      "16/16 [==============================] - 5s 287ms/step - loss: 2.1211e-04 - val_loss: 0.0027\n",
      "Epoch 81/100\n",
      "16/16 [==============================] - 5s 293ms/step - loss: 2.2125e-04 - val_loss: 8.8020e-04\n",
      "Epoch 82/100\n",
      "16/16 [==============================] - 5s 288ms/step - loss: 1.9792e-04 - val_loss: 7.7230e-04\n",
      "Epoch 83/100\n",
      "16/16 [==============================] - 5s 297ms/step - loss: 1.9252e-04 - val_loss: 6.1457e-04\n",
      "Epoch 84/100\n",
      "16/16 [==============================] - 5s 295ms/step - loss: 2.0329e-04 - val_loss: 7.2667e-04\n",
      "Epoch 85/100\n",
      "16/16 [==============================] - 5s 330ms/step - loss: 2.0973e-04 - val_loss: 0.0011\n",
      "Epoch 86/100\n",
      "16/16 [==============================] - 5s 289ms/step - loss: 1.9061e-04 - val_loss: 6.8804e-04\n",
      "Epoch 87/100\n",
      "16/16 [==============================] - 5s 284ms/step - loss: 1.8162e-04 - val_loss: 6.3183e-04\n",
      "Epoch 88/100\n",
      "16/16 [==============================] - 5s 293ms/step - loss: 1.7941e-04 - val_loss: 0.0015\n",
      "Epoch 89/100\n",
      "16/16 [==============================] - 5s 289ms/step - loss: 1.9536e-04 - val_loss: 9.4673e-04\n",
      "Epoch 90/100\n",
      "16/16 [==============================] - 5s 297ms/step - loss: 2.0938e-04 - val_loss: 7.8316e-04\n",
      "Epoch 91/100\n",
      "16/16 [==============================] - 5s 290ms/step - loss: 1.8421e-04 - val_loss: 5.1685e-04\n",
      "Epoch 92/100\n",
      "16/16 [==============================] - 5s 334ms/step - loss: 1.8936e-04 - val_loss: 7.5110e-04\n",
      "Epoch 93/100\n",
      "16/16 [==============================] - 5s 295ms/step - loss: 1.6283e-04 - val_loss: 6.3158e-04\n",
      "Epoch 94/100\n",
      "16/16 [==============================] - 5s 287ms/step - loss: 1.6122e-04 - val_loss: 6.9206e-04\n",
      "Epoch 95/100\n",
      "16/16 [==============================] - 5s 286ms/step - loss: 1.8502e-04 - val_loss: 5.1065e-04\n",
      "Epoch 96/100\n",
      "16/16 [==============================] - 5s 284ms/step - loss: 1.6641e-04 - val_loss: 7.2905e-04\n",
      "Epoch 97/100\n",
      "16/16 [==============================] - 5s 286ms/step - loss: 1.5957e-04 - val_loss: 4.5572e-04\n",
      "Epoch 98/100\n",
      "16/16 [==============================] - 5s 322ms/step - loss: 1.8586e-04 - val_loss: 7.3608e-04\n",
      "Epoch 99/100\n",
      "16/16 [==============================] - 5s 291ms/step - loss: 1.6018e-04 - val_loss: 4.5527e-04\n",
      "Epoch 100/100\n",
      "16/16 [==============================] - 5s 296ms/step - loss: 1.5214e-04 - val_loss: 4.6717e-04\n"
     ]
    },
    {
     "data": {
      "text/plain": [
       "<keras.callbacks.History at 0x7ff234133d90>"
      ]
     },
     "execution_count": 26,
     "metadata": {},
     "output_type": "execute_result"
    }
   ],
   "source": [
    "model.fit(X_train,y_train,validation_data=(X_test,ytest),epochs=100,batch_size=64,verbose=1)"
   ]
  },
  {
   "cell_type": "code",
   "execution_count": 27,
   "id": "9f7060f8",
   "metadata": {
    "execution": {
     "iopub.execute_input": "2022-10-16T12:39:49.974184Z",
     "iopub.status.busy": "2022-10-16T12:39:49.973738Z",
     "iopub.status.idle": "2022-10-16T12:39:49.978765Z",
     "shell.execute_reply": "2022-10-16T12:39:49.977606Z"
    },
    "id": "hc3ooUhfucpf",
    "papermill": {
     "duration": 0.216086,
     "end_time": "2022-10-16T12:39:49.981226",
     "exception": false,
     "start_time": "2022-10-16T12:39:49.765140",
     "status": "completed"
    },
    "tags": []
   },
   "outputs": [],
   "source": [
    "import tensorflow as tf"
   ]
  },
  {
   "cell_type": "code",
   "execution_count": 28,
   "id": "0a2a9dc2",
   "metadata": {
    "execution": {
     "iopub.execute_input": "2022-10-16T12:39:50.242595Z",
     "iopub.status.busy": "2022-10-16T12:39:50.242093Z",
     "iopub.status.idle": "2022-10-16T12:39:54.472015Z",
     "shell.execute_reply": "2022-10-16T12:39:54.470745Z"
    },
    "id": "MfeQ35Oaucpf",
    "outputId": "8965c084-8847-426a-80a2-dc0902deca35",
    "papermill": {
     "duration": 4.36465,
     "end_time": "2022-10-16T12:39:54.474730",
     "exception": false,
     "start_time": "2022-10-16T12:39:50.110080",
     "status": "completed"
    },
    "tags": []
   },
   "outputs": [],
   "source": [
    "### prediction and check performance metrics\n",
    "train_predict=model.predict(X_train)\n",
    "test_predict=model.predict(X_test)"
   ]
  },
  {
   "cell_type": "code",
   "execution_count": 29,
   "id": "f062630e",
   "metadata": {
    "execution": {
     "iopub.execute_input": "2022-10-16T12:39:54.726549Z",
     "iopub.status.busy": "2022-10-16T12:39:54.725753Z",
     "iopub.status.idle": "2022-10-16T12:39:54.731321Z",
     "shell.execute_reply": "2022-10-16T12:39:54.730362Z"
    },
    "id": "-HYPKpHGucpf",
    "papermill": {
     "duration": 0.132798,
     "end_time": "2022-10-16T12:39:54.733809",
     "exception": false,
     "start_time": "2022-10-16T12:39:54.601011",
     "status": "completed"
    },
    "tags": []
   },
   "outputs": [],
   "source": [
    "##Transformback to original form\n",
    "train_predict=scaler.inverse_transform(train_predict)\n",
    "test_predict=scaler.inverse_transform(test_predict)"
   ]
  },
  {
   "cell_type": "code",
   "execution_count": 30,
   "id": "a4bbeaf5",
   "metadata": {
    "execution": {
     "iopub.execute_input": "2022-10-16T12:39:54.984389Z",
     "iopub.status.busy": "2022-10-16T12:39:54.983748Z",
     "iopub.status.idle": "2022-10-16T12:39:55.042868Z",
     "shell.execute_reply": "2022-10-16T12:39:55.041475Z"
    },
    "id": "ApbVC934ucpf",
    "outputId": "e80c0f1a-a4b1-444d-c3ed-27dd26fca25c",
    "papermill": {
     "duration": 0.187609,
     "end_time": "2022-10-16T12:39:55.045196",
     "exception": false,
     "start_time": "2022-10-16T12:39:54.857587",
     "status": "completed"
    },
    "tags": []
   },
   "outputs": [
    {
     "data": {
      "text/plain": [
       "1571.056210056314"
      ]
     },
     "execution_count": 30,
     "metadata": {},
     "output_type": "execute_result"
    }
   ],
   "source": [
    "### Calculate RMSE performance metrics\n",
    "import math\n",
    "from sklearn.metrics import mean_squared_error\n",
    "math.sqrt(mean_squared_error(y_train,train_predict))"
   ]
  },
  {
   "cell_type": "code",
   "execution_count": 31,
   "id": "ec324cb5",
   "metadata": {
    "execution": {
     "iopub.execute_input": "2022-10-16T12:39:55.294683Z",
     "iopub.status.busy": "2022-10-16T12:39:55.293954Z",
     "iopub.status.idle": "2022-10-16T12:39:55.300743Z",
     "shell.execute_reply": "2022-10-16T12:39:55.299590Z"
    },
    "id": "gB6kc9ZIucpf",
    "outputId": "89818660-1df6-4762-c092-738b230497fa",
    "papermill": {
     "duration": 0.134238,
     "end_time": "2022-10-16T12:39:55.303042",
     "exception": false,
     "start_time": "2022-10-16T12:39:55.168804",
     "status": "completed"
    },
    "tags": []
   },
   "outputs": [
    {
     "data": {
      "text/plain": [
       "2600.356415942378"
      ]
     },
     "execution_count": 31,
     "metadata": {},
     "output_type": "execute_result"
    }
   ],
   "source": [
    "### Test Data RMSE\n",
    "math.sqrt(mean_squared_error(ytest,test_predict))"
   ]
  },
  {
   "cell_type": "code",
   "execution_count": 32,
   "id": "40800c47",
   "metadata": {
    "execution": {
     "iopub.execute_input": "2022-10-16T12:39:55.554137Z",
     "iopub.status.busy": "2022-10-16T12:39:55.553373Z",
     "iopub.status.idle": "2022-10-16T12:39:55.769956Z",
     "shell.execute_reply": "2022-10-16T12:39:55.768776Z"
    },
    "id": "-fVQCXJoucpg",
    "outputId": "d457cfd1-3e1c-4520-c80d-56bf1b6f97c9",
    "papermill": {
     "duration": 0.346462,
     "end_time": "2022-10-16T12:39:55.772477",
     "exception": false,
     "start_time": "2022-10-16T12:39:55.426015",
     "status": "completed"
    },
    "tags": []
   },
   "outputs": [
    {
     "data": {
      "image/png": "[encoded data removed]",
      "text/plain": [
       "<Figure size 432x288 with 1 Axes>"
      ]
     },
     "metadata": {
      "needs_background": "light"
     },
     "output_type": "display_data"
    }
   ],
   "source": [
    "### Plotting \n",
    "# shift train predictions for plotting\n",
    "look_back=100\n",
    "trainPredictPlot = numpy.empty_like(df1)\n",
    "trainPredictPlot[:, :] = np.nan\n",
    "trainPredictPlot[look_back:len(train_predict)+look_back, :] = train_predict\n",
    "# shift test predictions for plotting\n",
    "testPredictPlot = numpy.empty_like(df1)\n",
    "testPredictPlot[:, :] = numpy.nan\n",
    "testPredictPlot[len(train_predict)+(look_back*2)+1:len(df1)-1, :] = test_predict\n",
    "# plot baseline and predictions\n",
    "plt.plot(scaler.inverse_transform(df1))\n",
    "plt.plot(trainPredictPlot)\n",
    "plt.plot(testPredictPlot)\n",
    "plt.show()"
   ]
  },
  {
   "cell_type": "code",
   "execution_count": 33,
   "id": "55b9ffb6",
   "metadata": {
    "execution": {
     "iopub.execute_input": "2022-10-16T12:39:56.024164Z",
     "iopub.status.busy": "2022-10-16T12:39:56.023799Z",
     "iopub.status.idle": "2022-10-16T12:39:56.031249Z",
     "shell.execute_reply": "2022-10-16T12:39:56.030044Z"
    },
    "id": "arnNtJhtucpg",
    "outputId": "91d429e3-e915-448e-8150-6b222c3200d4",
    "papermill": {
     "duration": 0.137577,
     "end_time": "2022-10-16T12:39:56.033807",
     "exception": false,
     "start_time": "2022-10-16T12:39:55.896230",
     "status": "completed"
    },
    "tags": []
   },
   "outputs": [
    {
     "data": {
      "text/plain": [
       "580"
      ]
     },
     "execution_count": 33,
     "metadata": {},
     "output_type": "execute_result"
    }
   ],
   "source": [
    "len(test_data)"
   ]
  },
  {
   "cell_type": "code",
   "execution_count": 34,
   "id": "610eb0ed",
   "metadata": {
    "execution": {
     "iopub.execute_input": "2022-10-16T12:39:56.284973Z",
     "iopub.status.busy": "2022-10-16T12:39:56.284272Z",
     "iopub.status.idle": "2022-10-16T12:39:56.291169Z",
     "shell.execute_reply": "2022-10-16T12:39:56.290308Z"
    },
    "id": "LR2CUbxVzFmh",
    "outputId": "c0ead0ee-c76c-48fa-c0f4-94104152854a",
    "papermill": {
     "duration": 0.134684,
     "end_time": "2022-10-16T12:39:56.293238",
     "exception": false,
     "start_time": "2022-10-16T12:39:56.158554",
     "status": "completed"
    },
    "tags": []
   },
   "outputs": [
    {
     "data": {
      "text/plain": [
       "(1, 100)"
      ]
     },
     "execution_count": 34,
     "metadata": {},
     "output_type": "execute_result"
    }
   ],
   "source": [
    "x_input=test_data[480:].reshape(1,-1)\n",
    "x_input.shape"
   ]
  },
  {
   "cell_type": "code",
   "execution_count": 35,
   "id": "cb1d6549",
   "metadata": {
    "execution": {
     "iopub.execute_input": "2022-10-16T12:39:56.549927Z",
     "iopub.status.busy": "2022-10-16T12:39:56.548559Z",
     "iopub.status.idle": "2022-10-16T12:39:56.554843Z",
     "shell.execute_reply": "2022-10-16T12:39:56.553551Z"
    },
    "id": "a1e3V6d6ucpg",
    "papermill": {
     "duration": 0.13922,
     "end_time": "2022-10-16T12:39:56.557391",
     "exception": false,
     "start_time": "2022-10-16T12:39:56.418171",
     "status": "completed"
    },
    "tags": []
   },
   "outputs": [],
   "source": [
    "temp_input=list(x_input)\n",
    "temp_input=temp_input[0].tolist()"
   ]
  },
  {
   "cell_type": "code",
   "execution_count": 36,
   "id": "bc743c7a",
   "metadata": {
    "execution": {
     "iopub.execute_input": "2022-10-16T12:39:56.809606Z",
     "iopub.status.busy": "2022-10-16T12:39:56.808657Z",
     "iopub.status.idle": "2022-10-16T12:39:56.817139Z",
     "shell.execute_reply": "2022-10-16T12:39:56.816074Z"
    },
    "id": "j9GJZR_Aucpg",
    "outputId": "d2c46315-182f-4517-c8c2-6d115893f003",
    "papermill": {
     "duration": 0.136884,
     "end_time": "2022-10-16T12:39:56.819451",
     "exception": false,
     "start_time": "2022-10-16T12:39:56.682567",
     "status": "completed"
    },
    "tags": []
   },
   "outputs": [
    {
     "data": {
      "text/plain": [
       "[0.8325478057356097,\n",
       " 0.8678857623572298,\n",
       " 0.8782881610025992,\n",
       " 0.8648658850936701,\n",
       " 0.8576451428509799,\n",
       " 0.8804020750870911,\n",
       " 0.8971785718137599,\n",
       " 0.8997562527637271,\n",
       " 0.9125260194782083,\n",
       " 0.9048037619042482,\n",
       " 0.9210625653857354,\n",
       " 0.9030781177536427,\n",
       " 0.9212674856286198,\n",
       " 0.9253766757622492,\n",
       " 0.9403412461307823,\n",
       " 0.9529114852403497,\n",
       " 0.9632761354199249,\n",
       " 0.9440082399508192,\n",
       " 0.9597116017213301,\n",
       " 0.9740290555333857,\n",
       " 0.9638153992169891,\n",
       " 0.9635996936981632,\n",
       " 0.9684800310615946,\n",
       " 0.9617985526159687,\n",
       " 0.925926724835255,\n",
       " 0.9138040746772507,\n",
       " 0.9438518534496705,\n",
       " 0.9294858658958789,\n",
       " 0.9261532156300218,\n",
       " 0.9472168595433514,\n",
       " 0.9477992644441806,\n",
       " 0.9345926940540774,\n",
       " 0.8950107313495617,\n",
       " 0.9112102158133715,\n",
       " 0.8858648173513519,\n",
       " 0.8611395722559563,\n",
       " 0.8908098663704311,\n",
       " 0.853854118357618,\n",
       " 0.8577152471445983,\n",
       " 0.8647688176101986,\n",
       " 0.8957387374755983,\n",
       " 0.8600340814719745,\n",
       " 0.8377840572051036,\n",
       " 0.8363280449530299,\n",
       " 0.8309785480861527,\n",
       " 0.8195461555883907,\n",
       " 0.8152482231257887,\n",
       " 0.8329576462213786,\n",
       " 0.826389413173136,\n",
       " 0.7445507393306656,\n",
       " 0.6779462677552606,\n",
       " 0.6528435380019197,\n",
       " 0.6467228939052405,\n",
       " 0.6754926174786182,\n",
       " 0.6569473354975788,\n",
       " 0.652584691379329,\n",
       " 0.6777575254262882,\n",
       " 0.7116071139680109,\n",
       " 0.7180944574466936,\n",
       " 0.7020459668460619,\n",
       " 0.7297101996354576,\n",
       " 0.7033348073210453,\n",
       " 0.7125939667166385,\n",
       " 0.7060850526860729,\n",
       " 0.7006708441635479,\n",
       " 0.6829236726021635,\n",
       " 0.6695768936248234,\n",
       " 0.6361856793106051,\n",
       " 0.6379652498409172,\n",
       " 0.652719507328595,\n",
       " 0.6414327160560402,\n",
       " 0.635117936992418,\n",
       " 0.6747807892664934,\n",
       " 0.6672580592974471,\n",
       " 0.6855067461901012,\n",
       " 0.714060764244653,\n",
       " 0.7068454146399337,\n",
       " 0.6784909241902952,\n",
       " 0.674759218714611,\n",
       " 0.6593902004982799,\n",
       " 0.6635479243736451,\n",
       " 0.6944962736871623,\n",
       " 0.7053516539220657,\n",
       " 0.7258652487623898,\n",
       " 0.7304058499336705,\n",
       " 0.7131601937035559,\n",
       " 0.7030813533364253,\n",
       " 0.6921342982560208,\n",
       " 0.7015174883249389,\n",
       " 0.714244113935655,\n",
       " 0.6995491754656542,\n",
       " 0.7254176598108262,\n",
       " 0.7314951628037403,\n",
       " 0.7431432608203281,\n",
       " 0.7110840280848585,\n",
       " 0.7093637765722234,\n",
       " 0.6432068939483817,\n",
       " 0.7053678318359775,\n",
       " 0.7265878622504556,\n",
       " 0.748179984684908]"
      ]
     },
     "execution_count": 36,
     "metadata": {},
     "output_type": "execute_result"
    }
   ],
   "source": [
    "temp_input"
   ]
  },
  {
   "cell_type": "code",
   "execution_count": 37,
   "id": "1ad257cf",
   "metadata": {
    "execution": {
     "iopub.execute_input": "2022-10-16T12:39:57.071935Z",
     "iopub.status.busy": "2022-10-16T12:39:57.071228Z",
     "iopub.status.idle": "2022-10-16T12:39:59.582831Z",
     "shell.execute_reply": "2022-10-16T12:39:59.580606Z"
    },
    "id": "AZ6kUTupucpi",
    "outputId": "b778d8ac-1686-4c5b-85bb-2ac38a04c6ff",
    "papermill": {
     "duration": 2.641306,
     "end_time": "2022-10-16T12:39:59.585695",
     "exception": false,
     "start_time": "2022-10-16T12:39:56.944389",
     "status": "completed"
    },
    "tags": []
   },
   "outputs": [
    {
     "name": "stdout",
     "output_type": "stream",
     "text": [
      "[0.72534466]\n",
      "101\n",
      "1 day input [0.86788576 0.87828816 0.86486589 0.85764514 0.88040208 0.89717857\n",
      " 0.89975625 0.91252602 0.90480376 0.92106257 0.90307812 0.92126749\n",
      " 0.92537668 0.94034125 0.95291149 0.96327614 0.94400824 0.9597116\n",
      " 0.97402906 0.9638154  0.96359969 0.96848003 0.96179855 0.92592672\n",
      " 0.91380407 0.94385185 0.92948587 0.92615322 0.94721686 0.94779926\n",
      " 0.93459269 0.89501073 0.91121022 0.88586482 0.86113957 0.89080987\n",
      " 0.85385412 0.85771525 0.86476882 0.89573874 0.86003408 0.83778406\n",
      " 0.83632804 0.83097855 0.81954616 0.81524822 0.83295765 0.82638941\n",
      " 0.74455074 0.67794627 0.65284354 0.64672289 0.67549262 0.65694734\n",
      " 0.65258469 0.67775753 0.71160711 0.71809446 0.70204597 0.7297102\n",
      " 0.70333481 0.71259397 0.70608505 0.70067084 0.68292367 0.66957689\n",
      " 0.63618568 0.63796525 0.65271951 0.64143272 0.63511794 0.67478079\n",
      " 0.66725806 0.68550675 0.71406076 0.70684541 0.67849092 0.67475922\n",
      " 0.6593902  0.66354792 0.69449627 0.70535165 0.72586525 0.73040585\n",
      " 0.71316019 0.70308135 0.6921343  0.70151749 0.71424411 0.69954918\n",
      " 0.72541766 0.73149516 0.74314326 0.71108403 0.70936378 0.64320689\n",
      " 0.70536783 0.72658786 0.74817998 0.72534466]\n",
      "1 day output [[0.7383111]]\n",
      "2 day input [0.87828816 0.86486589 0.85764514 0.88040208 0.89717857 0.89975625\n",
      " 0.91252602 0.90480376 0.92106257 0.90307812 0.92126749 0.92537668\n",
      " 0.94034125 0.95291149 0.96327614 0.94400824 0.9597116  0.97402906\n",
      " 0.9638154  0.96359969 0.96848003 0.96179855 0.92592672 0.91380407\n",
      " 0.94385185 0.92948587 0.92615322 0.94721686 0.94779926 0.93459269\n",
      " 0.89501073 0.91121022 0.88586482 0.86113957 0.89080987 0.85385412\n",
      " 0.85771525 0.86476882 0.89573874 0.86003408 0.83778406 0.83632804\n",
      " 0.83097855 0.81954616 0.81524822 0.83295765 0.82638941 0.74455074\n",
      " 0.67794627 0.65284354 0.64672289 0.67549262 0.65694734 0.65258469\n",
      " 0.67775753 0.71160711 0.71809446 0.70204597 0.7297102  0.70333481\n",
      " 0.71259397 0.70608505 0.70067084 0.68292367 0.66957689 0.63618568\n",
      " 0.63796525 0.65271951 0.64143272 0.63511794 0.67478079 0.66725806\n",
      " 0.68550675 0.71406076 0.70684541 0.67849092 0.67475922 0.6593902\n",
      " 0.66354792 0.69449627 0.70535165 0.72586525 0.73040585 0.71316019\n",
      " 0.70308135 0.6921343  0.70151749 0.71424411 0.69954918 0.72541766\n",
      " 0.73149516 0.74314326 0.71108403 0.70936378 0.64320689 0.70536783\n",
      " 0.72658786 0.74817998 0.72534466 0.73831111]\n",
      "2 day output [[0.74433976]]\n",
      "3 day input [0.86486589 0.85764514 0.88040208 0.89717857 0.89975625 0.91252602\n",
      " 0.90480376 0.92106257 0.90307812 0.92126749 0.92537668 0.94034125\n",
      " 0.95291149 0.96327614 0.94400824 0.9597116  0.97402906 0.9638154\n",
      " 0.96359969 0.96848003 0.96179855 0.92592672 0.91380407 0.94385185\n",
      " 0.92948587 0.92615322 0.94721686 0.94779926 0.93459269 0.89501073\n",
      " 0.91121022 0.88586482 0.86113957 0.89080987 0.85385412 0.85771525\n",
      " 0.86476882 0.89573874 0.86003408 0.83778406 0.83632804 0.83097855\n",
      " 0.81954616 0.81524822 0.83295765 0.82638941 0.74455074 0.67794627\n",
      " 0.65284354 0.64672289 0.67549262 0.65694734 0.65258469 0.67775753\n",
      " 0.71160711 0.71809446 0.70204597 0.7297102  0.70333481 0.71259397\n",
      " 0.70608505 0.70067084 0.68292367 0.66957689 0.63618568 0.63796525\n",
      " 0.65271951 0.64143272 0.63511794 0.67478079 0.66725806 0.68550675\n",
      " 0.71406076 0.70684541 0.67849092 0.67475922 0.6593902  0.66354792\n",
      " 0.69449627 0.70535165 0.72586525 0.73040585 0.71316019 0.70308135\n",
      " 0.6921343  0.70151749 0.71424411 0.69954918 0.72541766 0.73149516\n",
      " 0.74314326 0.71108403 0.70936378 0.64320689 0.70536783 0.72658786\n",
      " 0.74817998 0.72534466 0.73831111 0.74433976]\n",
      "3 day output [[0.7474414]]\n",
      "4 day input [0.85764514 0.88040208 0.89717857 0.89975625 0.91252602 0.90480376\n",
      " 0.92106257 0.90307812 0.92126749 0.92537668 0.94034125 0.95291149\n",
      " 0.96327614 0.94400824 0.9597116  0.97402906 0.9638154  0.96359969\n",
      " 0.96848003 0.96179855 0.92592672 0.91380407 0.94385185 0.92948587\n",
      " 0.92615322 0.94721686 0.94779926 0.93459269 0.89501073 0.91121022\n",
      " 0.88586482 0.86113957 0.89080987 0.85385412 0.85771525 0.86476882\n",
      " 0.89573874 0.86003408 0.83778406 0.83632804 0.83097855 0.81954616\n",
      " 0.81524822 0.83295765 0.82638941 0.74455074 0.67794627 0.65284354\n",
      " 0.64672289 0.67549262 0.65694734 0.65258469 0.67775753 0.71160711\n",
      " 0.71809446 0.70204597 0.7297102  0.70333481 0.71259397 0.70608505\n",
      " 0.70067084 0.68292367 0.66957689 0.63618568 0.63796525 0.65271951\n",
      " 0.64143272 0.63511794 0.67478079 0.66725806 0.68550675 0.71406076\n",
      " 0.70684541 0.67849092 0.67475922 0.6593902  0.66354792 0.69449627\n",
      " 0.70535165 0.72586525 0.73040585 0.71316019 0.70308135 0.6921343\n",
      " 0.70151749 0.71424411 0.69954918 0.72541766 0.73149516 0.74314326\n",
      " 0.71108403 0.70936378 0.64320689 0.70536783 0.72658786 0.74817998\n",
      " 0.72534466 0.73831111 0.74433976 0.74744141]\n",
      "4 day output [[0.74932384]]\n",
      "5 day input [0.88040208 0.89717857 0.89975625 0.91252602 0.90480376 0.92106257\n",
      " 0.90307812 0.92126749 0.92537668 0.94034125 0.95291149 0.96327614\n",
      " 0.94400824 0.9597116  0.97402906 0.9638154  0.96359969 0.96848003\n",
      " 0.96179855 0.92592672 0.91380407 0.94385185 0.92948587 0.92615322\n",
      " 0.94721686 0.94779926 0.93459269 0.89501073 0.91121022 0.88586482\n",
      " 0.86113957 0.89080987 0.85385412 0.85771525 0.86476882 0.89573874\n",
      " 0.86003408 0.83778406 0.83632804 0.83097855 0.81954616 0.81524822\n",
      " 0.83295765 0.82638941 0.74455074 0.67794627 0.65284354 0.64672289\n",
      " 0.67549262 0.65694734 0.65258469 0.67775753 0.71160711 0.71809446\n",
      " 0.70204597 0.7297102  0.70333481 0.71259397 0.70608505 0.70067084\n",
      " 0.68292367 0.66957689 0.63618568 0.63796525 0.65271951 0.64143272\n",
      " 0.63511794 0.67478079 0.66725806 0.68550675 0.71406076 0.70684541\n",
      " 0.67849092 0.67475922 0.6593902  0.66354792 0.69449627 0.70535165\n",
      " 0.72586525 0.73040585 0.71316019 0.70308135 0.6921343  0.70151749\n",
      " 0.71424411 0.69954918 0.72541766 0.73149516 0.74314326 0.71108403\n",
      " 0.70936378 0.64320689 0.70536783 0.72658786 0.74817998 0.72534466\n",
      " 0.73831111 0.74433976 0.74744141 0.74932384]\n",
      "5 day output [[0.75058967]]\n",
      "6 day input [0.89717857 0.89975625 0.91252602 0.90480376 0.92106257 0.90307812\n",
      " 0.92126749 0.92537668 0.94034125 0.95291149 0.96327614 0.94400824\n",
      " 0.9597116  0.97402906 0.9638154  0.96359969 0.96848003 0.96179855\n",
      " 0.92592672 0.91380407 0.94385185 0.92948587 0.92615322 0.94721686\n",
      " 0.94779926 0.93459269 0.89501073 0.91121022 0.88586482 0.86113957\n",
      " 0.89080987 0.85385412 0.85771525 0.86476882 0.89573874 0.86003408\n",
      " 0.83778406 0.83632804 0.83097855 0.81954616 0.81524822 0.83295765\n",
      " 0.82638941 0.74455074 0.67794627 0.65284354 0.64672289 0.67549262\n",
      " 0.65694734 0.65258469 0.67775753 0.71160711 0.71809446 0.70204597\n",
      " 0.7297102  0.70333481 0.71259397 0.70608505 0.70067084 0.68292367\n",
      " 0.66957689 0.63618568 0.63796525 0.65271951 0.64143272 0.63511794\n",
      " 0.67478079 0.66725806 0.68550675 0.71406076 0.70684541 0.67849092\n",
      " 0.67475922 0.6593902  0.66354792 0.69449627 0.70535165 0.72586525\n",
      " 0.73040585 0.71316019 0.70308135 0.6921343  0.70151749 0.71424411\n",
      " 0.69954918 0.72541766 0.73149516 0.74314326 0.71108403 0.70936378\n",
      " 0.64320689 0.70536783 0.72658786 0.74817998 0.72534466 0.73831111\n",
      " 0.74433976 0.74744141 0.74932384 0.75058967]\n",
      "6 day output [[0.75155413]]\n",
      "7 day input [0.89975625 0.91252602 0.90480376 0.92106257 0.90307812 0.92126749\n",
      " 0.92537668 0.94034125 0.95291149 0.96327614 0.94400824 0.9597116\n",
      " 0.97402906 0.9638154  0.96359969 0.96848003 0.96179855 0.92592672\n",
      " 0.91380407 0.94385185 0.92948587 0.92615322 0.94721686 0.94779926\n",
      " 0.93459269 0.89501073 0.91121022 0.88586482 0.86113957 0.89080987\n",
      " 0.85385412 0.85771525 0.86476882 0.89573874 0.86003408 0.83778406\n",
      " 0.83632804 0.83097855 0.81954616 0.81524822 0.83295765 0.82638941\n",
      " 0.74455074 0.67794627 0.65284354 0.64672289 0.67549262 0.65694734\n",
      " 0.65258469 0.67775753 0.71160711 0.71809446 0.70204597 0.7297102\n",
      " 0.70333481 0.71259397 0.70608505 0.70067084 0.68292367 0.66957689\n",
      " 0.63618568 0.63796525 0.65271951 0.64143272 0.63511794 0.67478079\n",
      " 0.66725806 0.68550675 0.71406076 0.70684541 0.67849092 0.67475922\n",
      " 0.6593902  0.66354792 0.69449627 0.70535165 0.72586525 0.73040585\n",
      " 0.71316019 0.70308135 0.6921343  0.70151749 0.71424411 0.69954918\n",
      " 0.72541766 0.73149516 0.74314326 0.71108403 0.70936378 0.64320689\n",
      " 0.70536783 0.72658786 0.74817998 0.72534466 0.73831111 0.74433976\n",
      " 0.74744141 0.74932384 0.75058967 0.75155413]\n",
      "7 day output [[0.75247115]]\n",
      "8 day input [0.91252602 0.90480376 0.92106257 0.90307812 0.92126749 0.92537668\n",
      " 0.94034125 0.95291149 0.96327614 0.94400824 0.9597116  0.97402906\n",
      " 0.9638154  0.96359969 0.96848003 0.96179855 0.92592672 0.91380407\n",
      " 0.94385185 0.92948587 0.92615322 0.94721686 0.94779926 0.93459269\n",
      " 0.89501073 0.91121022 0.88586482 0.86113957 0.89080987 0.85385412\n",
      " 0.85771525 0.86476882 0.89573874 0.86003408 0.83778406 0.83632804\n",
      " 0.83097855 0.81954616 0.81524822 0.83295765 0.82638941 0.74455074\n",
      " 0.67794627 0.65284354 0.64672289 0.67549262 0.65694734 0.65258469\n",
      " 0.67775753 0.71160711 0.71809446 0.70204597 0.7297102  0.70333481\n",
      " 0.71259397 0.70608505 0.70067084 0.68292367 0.66957689 0.63618568\n",
      " 0.63796525 0.65271951 0.64143272 0.63511794 0.67478079 0.66725806\n",
      " 0.68550675 0.71406076 0.70684541 0.67849092 0.67475922 0.6593902\n",
      " 0.66354792 0.69449627 0.70535165 0.72586525 0.73040585 0.71316019\n",
      " 0.70308135 0.6921343  0.70151749 0.71424411 0.69954918 0.72541766\n",
      " 0.73149516 0.74314326 0.71108403 0.70936378 0.64320689 0.70536783\n",
      " 0.72658786 0.74817998 0.72534466 0.73831111 0.74433976 0.74744141\n",
      " 0.74932384 0.75058967 0.75155413 0.75247115]\n",
      "8 day output [[0.7535431]]\n",
      "9 day input [0.90480376 0.92106257 0.90307812 0.92126749 0.92537668 0.94034125\n",
      " 0.95291149 0.96327614 0.94400824 0.9597116  0.97402906 0.9638154\n",
      " 0.96359969 0.96848003 0.96179855 0.92592672 0.91380407 0.94385185\n",
      " 0.92948587 0.92615322 0.94721686 0.94779926 0.93459269 0.89501073\n",
      " 0.91121022 0.88586482 0.86113957 0.89080987 0.85385412 0.85771525\n",
      " 0.86476882 0.89573874 0.86003408 0.83778406 0.83632804 0.83097855\n",
      " 0.81954616 0.81524822 0.83295765 0.82638941 0.74455074 0.67794627\n",
      " 0.65284354 0.64672289 0.67549262 0.65694734 0.65258469 0.67775753\n",
      " 0.71160711 0.71809446 0.70204597 0.7297102  0.70333481 0.71259397\n",
      " 0.70608505 0.70067084 0.68292367 0.66957689 0.63618568 0.63796525\n",
      " 0.65271951 0.64143272 0.63511794 0.67478079 0.66725806 0.68550675\n",
      " 0.71406076 0.70684541 0.67849092 0.67475922 0.6593902  0.66354792\n",
      " 0.69449627 0.70535165 0.72586525 0.73040585 0.71316019 0.70308135\n",
      " 0.6921343  0.70151749 0.71424411 0.69954918 0.72541766 0.73149516\n",
      " 0.74314326 0.71108403 0.70936378 0.64320689 0.70536783 0.72658786\n",
      " 0.74817998 0.72534466 0.73831111 0.74433976 0.74744141 0.74932384\n",
      " 0.75058967 0.75155413 0.75247115 0.75354308]\n",
      "9 day output [[0.7549025]]\n",
      "10 day input [0.92106257 0.90307812 0.92126749 0.92537668 0.94034125 0.95291149\n",
      " 0.96327614 0.94400824 0.9597116  0.97402906 0.9638154  0.96359969\n",
      " 0.96848003 0.96179855 0.92592672 0.91380407 0.94385185 0.92948587\n",
      " 0.92615322 0.94721686 0.94779926 0.93459269 0.89501073 0.91121022\n",
      " 0.88586482 0.86113957 0.89080987 0.85385412 0.85771525 0.86476882\n",
      " 0.89573874 0.86003408 0.83778406 0.83632804 0.83097855 0.81954616\n",
      " 0.81524822 0.83295765 0.82638941 0.74455074 0.67794627 0.65284354\n",
      " 0.64672289 0.67549262 0.65694734 0.65258469 0.67775753 0.71160711\n",
      " 0.71809446 0.70204597 0.7297102  0.70333481 0.71259397 0.70608505\n",
      " 0.70067084 0.68292367 0.66957689 0.63618568 0.63796525 0.65271951\n",
      " 0.64143272 0.63511794 0.67478079 0.66725806 0.68550675 0.71406076\n",
      " 0.70684541 0.67849092 0.67475922 0.6593902  0.66354792 0.69449627\n",
      " 0.70535165 0.72586525 0.73040585 0.71316019 0.70308135 0.6921343\n",
      " 0.70151749 0.71424411 0.69954918 0.72541766 0.73149516 0.74314326\n",
      " 0.71108403 0.70936378 0.64320689 0.70536783 0.72658786 0.74817998\n",
      " 0.72534466 0.73831111 0.74433976 0.74744141 0.74932384 0.75058967\n",
      " 0.75155413 0.75247115 0.75354308 0.75490248]\n",
      "10 day output [[0.7566067]]\n",
      "11 day input [0.90307812 0.92126749 0.92537668 0.94034125 0.95291149 0.96327614\n",
      " 0.94400824 0.9597116  0.97402906 0.9638154  0.96359969 0.96848003\n",
      " 0.96179855 0.92592672 0.91380407 0.94385185 0.92948587 0.92615322\n",
      " 0.94721686 0.94779926 0.93459269 0.89501073 0.91121022 0.88586482\n",
      " 0.86113957 0.89080987 0.85385412 0.85771525 0.86476882 0.89573874\n",
      " 0.86003408 0.83778406 0.83632804 0.83097855 0.81954616 0.81524822\n",
      " 0.83295765 0.82638941 0.74455074 0.67794627 0.65284354 0.64672289\n",
      " 0.67549262 0.65694734 0.65258469 0.67775753 0.71160711 0.71809446\n",
      " 0.70204597 0.7297102  0.70333481 0.71259397 0.70608505 0.70067084\n",
      " 0.68292367 0.66957689 0.63618568 0.63796525 0.65271951 0.64143272\n",
      " 0.63511794 0.67478079 0.66725806 0.68550675 0.71406076 0.70684541\n",
      " 0.67849092 0.67475922 0.6593902  0.66354792 0.69449627 0.70535165\n",
      " 0.72586525 0.73040585 0.71316019 0.70308135 0.6921343  0.70151749\n",
      " 0.71424411 0.69954918 0.72541766 0.73149516 0.74314326 0.71108403\n",
      " 0.70936378 0.64320689 0.70536783 0.72658786 0.74817998 0.72534466\n",
      " 0.73831111 0.74433976 0.74744141 0.74932384 0.75058967 0.75155413\n",
      " 0.75247115 0.75354308 0.75490248 0.7566067 ]\n",
      "11 day output [[0.75865066]]\n",
      "12 day input [0.92126749 0.92537668 0.94034125 0.95291149 0.96327614 0.94400824\n",
      " 0.9597116  0.97402906 0.9638154  0.96359969 0.96848003 0.96179855\n",
      " 0.92592672 0.91380407 0.94385185 0.92948587 0.92615322 0.94721686\n",
      " 0.94779926 0.93459269 0.89501073 0.91121022 0.88586482 0.86113957\n",
      " 0.89080987 0.85385412 0.85771525 0.86476882 0.89573874 0.86003408\n",
      " 0.83778406 0.83632804 0.83097855 0.81954616 0.81524822 0.83295765\n",
      " 0.82638941 0.74455074 0.67794627 0.65284354 0.64672289 0.67549262\n",
      " 0.65694734 0.65258469 0.67775753 0.71160711 0.71809446 0.70204597\n",
      " 0.7297102  0.70333481 0.71259397 0.70608505 0.70067084 0.68292367\n",
      " 0.66957689 0.63618568 0.63796525 0.65271951 0.64143272 0.63511794\n",
      " 0.67478079 0.66725806 0.68550675 0.71406076 0.70684541 0.67849092\n",
      " 0.67475922 0.6593902  0.66354792 0.69449627 0.70535165 0.72586525\n",
      " 0.73040585 0.71316019 0.70308135 0.6921343  0.70151749 0.71424411\n",
      " 0.69954918 0.72541766 0.73149516 0.74314326 0.71108403 0.70936378\n",
      " 0.64320689 0.70536783 0.72658786 0.74817998 0.72534466 0.73831111\n",
      " 0.74433976 0.74744141 0.74932384 0.75058967 0.75155413 0.75247115\n",
      " 0.75354308 0.75490248 0.7566067  0.75865066]\n",
      "12 day output [[0.7609835]]\n",
      "13 day input [0.92537668 0.94034125 0.95291149 0.96327614 0.94400824 0.9597116\n",
      " 0.97402906 0.9638154  0.96359969 0.96848003 0.96179855 0.92592672\n",
      " 0.91380407 0.94385185 0.92948587 0.92615322 0.94721686 0.94779926\n",
      " 0.93459269 0.89501073 0.91121022 0.88586482 0.86113957 0.89080987\n",
      " 0.85385412 0.85771525 0.86476882 0.89573874 0.86003408 0.83778406\n",
      " 0.83632804 0.83097855 0.81954616 0.81524822 0.83295765 0.82638941\n",
      " 0.74455074 0.67794627 0.65284354 0.64672289 0.67549262 0.65694734\n",
      " 0.65258469 0.67775753 0.71160711 0.71809446 0.70204597 0.7297102\n",
      " 0.70333481 0.71259397 0.70608505 0.70067084 0.68292367 0.66957689\n",
      " 0.63618568 0.63796525 0.65271951 0.64143272 0.63511794 0.67478079\n",
      " 0.66725806 0.68550675 0.71406076 0.70684541 0.67849092 0.67475922\n",
      " 0.6593902  0.66354792 0.69449627 0.70535165 0.72586525 0.73040585\n",
      " 0.71316019 0.70308135 0.6921343  0.70151749 0.71424411 0.69954918\n",
      " 0.72541766 0.73149516 0.74314326 0.71108403 0.70936378 0.64320689\n",
      " 0.70536783 0.72658786 0.74817998 0.72534466 0.73831111 0.74433976\n",
      " 0.74744141 0.74932384 0.75058967 0.75155413 0.75247115 0.75354308\n",
      " 0.75490248 0.7566067  0.75865066 0.76098353]\n",
      "13 day output [[0.7635293]]\n",
      "14 day input [0.94034125 0.95291149 0.96327614 0.94400824 0.9597116  0.97402906\n",
      " 0.9638154  0.96359969 0.96848003 0.96179855 0.92592672 0.91380407\n",
      " 0.94385185 0.92948587 0.92615322 0.94721686 0.94779926 0.93459269\n",
      " 0.89501073 0.91121022 0.88586482 0.86113957 0.89080987 0.85385412\n",
      " 0.85771525 0.86476882 0.89573874 0.86003408 0.83778406 0.83632804\n",
      " 0.83097855 0.81954616 0.81524822 0.83295765 0.82638941 0.74455074\n",
      " 0.67794627 0.65284354 0.64672289 0.67549262 0.65694734 0.65258469\n",
      " 0.67775753 0.71160711 0.71809446 0.70204597 0.7297102  0.70333481\n",
      " 0.71259397 0.70608505 0.70067084 0.68292367 0.66957689 0.63618568\n",
      " 0.63796525 0.65271951 0.64143272 0.63511794 0.67478079 0.66725806\n",
      " 0.68550675 0.71406076 0.70684541 0.67849092 0.67475922 0.6593902\n",
      " 0.66354792 0.69449627 0.70535165 0.72586525 0.73040585 0.71316019\n",
      " 0.70308135 0.6921343  0.70151749 0.71424411 0.69954918 0.72541766\n",
      " 0.73149516 0.74314326 0.71108403 0.70936378 0.64320689 0.70536783\n",
      " 0.72658786 0.74817998 0.72534466 0.73831111 0.74433976 0.74744141\n",
      " 0.74932384 0.75058967 0.75155413 0.75247115 0.75354308 0.75490248\n",
      " 0.7566067  0.75865066 0.76098353 0.7635293 ]\n",
      "14 day output [[0.7662027]]\n",
      "15 day input [0.95291149 0.96327614 0.94400824 0.9597116  0.97402906 0.9638154\n",
      " 0.96359969 0.96848003 0.96179855 0.92592672 0.91380407 0.94385185\n",
      " 0.92948587 0.92615322 0.94721686 0.94779926 0.93459269 0.89501073\n",
      " 0.91121022 0.88586482 0.86113957 0.89080987 0.85385412 0.85771525\n",
      " 0.86476882 0.89573874 0.86003408 0.83778406 0.83632804 0.83097855\n",
      " 0.81954616 0.81524822 0.83295765 0.82638941 0.74455074 0.67794627\n",
      " 0.65284354 0.64672289 0.67549262 0.65694734 0.65258469 0.67775753\n",
      " 0.71160711 0.71809446 0.70204597 0.7297102  0.70333481 0.71259397\n",
      " 0.70608505 0.70067084 0.68292367 0.66957689 0.63618568 0.63796525\n",
      " 0.65271951 0.64143272 0.63511794 0.67478079 0.66725806 0.68550675\n",
      " 0.71406076 0.70684541 0.67849092 0.67475922 0.6593902  0.66354792\n",
      " 0.69449627 0.70535165 0.72586525 0.73040585 0.71316019 0.70308135\n",
      " 0.6921343  0.70151749 0.71424411 0.69954918 0.72541766 0.73149516\n",
      " 0.74314326 0.71108403 0.70936378 0.64320689 0.70536783 0.72658786\n",
      " 0.74817998 0.72534466 0.73831111 0.74433976 0.74744141 0.74932384\n",
      " 0.75058967 0.75155413 0.75247115 0.75354308 0.75490248 0.7566067\n",
      " 0.75865066 0.76098353 0.7635293  0.76620269]\n",
      "15 day output [[0.7689241]]\n",
      "16 day input [0.96327614 0.94400824 0.9597116  0.97402906 0.9638154  0.96359969\n",
      " 0.96848003 0.96179855 0.92592672 0.91380407 0.94385185 0.92948587\n",
      " 0.92615322 0.94721686 0.94779926 0.93459269 0.89501073 0.91121022\n",
      " 0.88586482 0.86113957 0.89080987 0.85385412 0.85771525 0.86476882\n",
      " 0.89573874 0.86003408 0.83778406 0.83632804 0.83097855 0.81954616\n",
      " 0.81524822 0.83295765 0.82638941 0.74455074 0.67794627 0.65284354\n",
      " 0.64672289 0.67549262 0.65694734 0.65258469 0.67775753 0.71160711\n",
      " 0.71809446 0.70204597 0.7297102  0.70333481 0.71259397 0.70608505\n",
      " 0.70067084 0.68292367 0.66957689 0.63618568 0.63796525 0.65271951\n",
      " 0.64143272 0.63511794 0.67478079 0.66725806 0.68550675 0.71406076\n",
      " 0.70684541 0.67849092 0.67475922 0.6593902  0.66354792 0.69449627\n",
      " 0.70535165 0.72586525 0.73040585 0.71316019 0.70308135 0.6921343\n",
      " 0.70151749 0.71424411 0.69954918 0.72541766 0.73149516 0.74314326\n",
      " 0.71108403 0.70936378 0.64320689 0.70536783 0.72658786 0.74817998\n",
      " 0.72534466 0.73831111 0.74433976 0.74744141 0.74932384 0.75058967\n",
      " 0.75155413 0.75247115 0.75354308 0.75490248 0.7566067  0.75865066\n",
      " 0.76098353 0.7635293  0.76620269 0.76892412]\n",
      "16 day output [[0.7716275]]\n",
      "17 day input [0.94400824 0.9597116  0.97402906 0.9638154  0.96359969 0.96848003\n",
      " 0.96179855 0.92592672 0.91380407 0.94385185 0.92948587 0.92615322\n",
      " 0.94721686 0.94779926 0.93459269 0.89501073 0.91121022 0.88586482\n",
      " 0.86113957 0.89080987 0.85385412 0.85771525 0.86476882 0.89573874\n",
      " 0.86003408 0.83778406 0.83632804 0.83097855 0.81954616 0.81524822\n",
      " 0.83295765 0.82638941 0.74455074 0.67794627 0.65284354 0.64672289\n",
      " 0.67549262 0.65694734 0.65258469 0.67775753 0.71160711 0.71809446\n",
      " 0.70204597 0.7297102  0.70333481 0.71259397 0.70608505 0.70067084\n",
      " 0.68292367 0.66957689 0.63618568 0.63796525 0.65271951 0.64143272\n",
      " 0.63511794 0.67478079 0.66725806 0.68550675 0.71406076 0.70684541\n",
      " 0.67849092 0.67475922 0.6593902  0.66354792 0.69449627 0.70535165\n",
      " 0.72586525 0.73040585 0.71316019 0.70308135 0.6921343  0.70151749\n",
      " 0.71424411 0.69954918 0.72541766 0.73149516 0.74314326 0.71108403\n",
      " 0.70936378 0.64320689 0.70536783 0.72658786 0.74817998 0.72534466\n",
      " 0.73831111 0.74433976 0.74744141 0.74932384 0.75058967 0.75155413\n",
      " 0.75247115 0.75354308 0.75490248 0.7566067  0.75865066 0.76098353\n",
      " 0.7635293  0.76620269 0.76892412 0.77162749]\n",
      "17 day output [[0.77426684]]\n",
      "18 day input [0.9597116  0.97402906 0.9638154  0.96359969 0.96848003 0.96179855\n",
      " 0.92592672 0.91380407 0.94385185 0.92948587 0.92615322 0.94721686\n",
      " 0.94779926 0.93459269 0.89501073 0.91121022 0.88586482 0.86113957\n",
      " 0.89080987 0.85385412 0.85771525 0.86476882 0.89573874 0.86003408\n",
      " 0.83778406 0.83632804 0.83097855 0.81954616 0.81524822 0.83295765\n",
      " 0.82638941 0.74455074 0.67794627 0.65284354 0.64672289 0.67549262\n",
      " 0.65694734 0.65258469 0.67775753 0.71160711 0.71809446 0.70204597\n",
      " 0.7297102  0.70333481 0.71259397 0.70608505 0.70067084 0.68292367\n",
      " 0.66957689 0.63618568 0.63796525 0.65271951 0.64143272 0.63511794\n",
      " 0.67478079 0.66725806 0.68550675 0.71406076 0.70684541 0.67849092\n",
      " 0.67475922 0.6593902  0.66354792 0.69449627 0.70535165 0.72586525\n",
      " 0.73040585 0.71316019 0.70308135 0.6921343  0.70151749 0.71424411\n",
      " 0.69954918 0.72541766 0.73149516 0.74314326 0.71108403 0.70936378\n",
      " 0.64320689 0.70536783 0.72658786 0.74817998 0.72534466 0.73831111\n",
      " 0.74433976 0.74744141 0.74932384 0.75058967 0.75155413 0.75247115\n",
      " 0.75354308 0.75490248 0.7566067  0.75865066 0.76098353 0.7635293\n",
      " 0.76620269 0.76892412 0.77162749 0.77426684]\n",
      "18 day output [[0.7768154]]\n",
      "19 day input [0.97402906 0.9638154  0.96359969 0.96848003 0.96179855 0.92592672\n",
      " 0.91380407 0.94385185 0.92948587 0.92615322 0.94721686 0.94779926\n",
      " 0.93459269 0.89501073 0.91121022 0.88586482 0.86113957 0.89080987\n",
      " 0.85385412 0.85771525 0.86476882 0.89573874 0.86003408 0.83778406\n",
      " 0.83632804 0.83097855 0.81954616 0.81524822 0.83295765 0.82638941\n",
      " 0.74455074 0.67794627 0.65284354 0.64672289 0.67549262 0.65694734\n",
      " 0.65258469 0.67775753 0.71160711 0.71809446 0.70204597 0.7297102\n",
      " 0.70333481 0.71259397 0.70608505 0.70067084 0.68292367 0.66957689\n",
      " 0.63618568 0.63796525 0.65271951 0.64143272 0.63511794 0.67478079\n",
      " 0.66725806 0.68550675 0.71406076 0.70684541 0.67849092 0.67475922\n",
      " 0.6593902  0.66354792 0.69449627 0.70535165 0.72586525 0.73040585\n",
      " 0.71316019 0.70308135 0.6921343  0.70151749 0.71424411 0.69954918\n",
      " 0.72541766 0.73149516 0.74314326 0.71108403 0.70936378 0.64320689\n",
      " 0.70536783 0.72658786 0.74817998 0.72534466 0.73831111 0.74433976\n",
      " 0.74744141 0.74932384 0.75058967 0.75155413 0.75247115 0.75354308\n",
      " 0.75490248 0.7566067  0.75865066 0.76098353 0.7635293  0.76620269\n",
      " 0.76892412 0.77162749 0.77426684 0.77681541]\n",
      "19 day output [[0.7792655]]\n",
      "20 day input [0.9638154  0.96359969 0.96848003 0.96179855 0.92592672 0.91380407\n",
      " 0.94385185 0.92948587 0.92615322 0.94721686 0.94779926 0.93459269\n",
      " 0.89501073 0.91121022 0.88586482 0.86113957 0.89080987 0.85385412\n",
      " 0.85771525 0.86476882 0.89573874 0.86003408 0.83778406 0.83632804\n",
      " 0.83097855 0.81954616 0.81524822 0.83295765 0.82638941 0.74455074\n",
      " 0.67794627 0.65284354 0.64672289 0.67549262 0.65694734 0.65258469\n",
      " 0.67775753 0.71160711 0.71809446 0.70204597 0.7297102  0.70333481\n",
      " 0.71259397 0.70608505 0.70067084 0.68292367 0.66957689 0.63618568\n",
      " 0.63796525 0.65271951 0.64143272 0.63511794 0.67478079 0.66725806\n",
      " 0.68550675 0.71406076 0.70684541 0.67849092 0.67475922 0.6593902\n",
      " 0.66354792 0.69449627 0.70535165 0.72586525 0.73040585 0.71316019\n",
      " 0.70308135 0.6921343  0.70151749 0.71424411 0.69954918 0.72541766\n",
      " 0.73149516 0.74314326 0.71108403 0.70936378 0.64320689 0.70536783\n",
      " 0.72658786 0.74817998 0.72534466 0.73831111 0.74433976 0.74744141\n",
      " 0.74932384 0.75058967 0.75155413 0.75247115 0.75354308 0.75490248\n",
      " 0.7566067  0.75865066 0.76098353 0.7635293  0.76620269 0.76892412\n",
      " 0.77162749 0.77426684 0.77681541 0.77926552]\n",
      "20 day output [[0.7816232]]\n",
      "21 day input [0.96359969 0.96848003 0.96179855 0.92592672 0.91380407 0.94385185\n",
      " 0.92948587 0.92615322 0.94721686 0.94779926 0.93459269 0.89501073\n",
      " 0.91121022 0.88586482 0.86113957 0.89080987 0.85385412 0.85771525\n",
      " 0.86476882 0.89573874 0.86003408 0.83778406 0.83632804 0.83097855\n",
      " 0.81954616 0.81524822 0.83295765 0.82638941 0.74455074 0.67794627\n",
      " 0.65284354 0.64672289 0.67549262 0.65694734 0.65258469 0.67775753\n",
      " 0.71160711 0.71809446 0.70204597 0.7297102  0.70333481 0.71259397\n",
      " 0.70608505 0.70067084 0.68292367 0.66957689 0.63618568 0.63796525\n",
      " 0.65271951 0.64143272 0.63511794 0.67478079 0.66725806 0.68550675\n",
      " 0.71406076 0.70684541 0.67849092 0.67475922 0.6593902  0.66354792\n",
      " 0.69449627 0.70535165 0.72586525 0.73040585 0.71316019 0.70308135\n",
      " 0.6921343  0.70151749 0.71424411 0.69954918 0.72541766 0.73149516\n",
      " 0.74314326 0.71108403 0.70936378 0.64320689 0.70536783 0.72658786\n",
      " 0.74817998 0.72534466 0.73831111 0.74433976 0.74744141 0.74932384\n",
      " 0.75058967 0.75155413 0.75247115 0.75354308 0.75490248 0.7566067\n",
      " 0.75865066 0.76098353 0.7635293  0.76620269 0.76892412 0.77162749\n",
      " 0.77426684 0.77681541 0.77926552 0.78162318]\n",
      "21 day output [[0.7839046]]\n",
      "22 day input [0.96848003 0.96179855 0.92592672 0.91380407 0.94385185 0.92948587\n",
      " 0.92615322 0.94721686 0.94779926 0.93459269 0.89501073 0.91121022\n",
      " 0.88586482 0.86113957 0.89080987 0.85385412 0.85771525 0.86476882\n",
      " 0.89573874 0.86003408 0.83778406 0.83632804 0.83097855 0.81954616\n",
      " 0.81524822 0.83295765 0.82638941 0.74455074 0.67794627 0.65284354\n",
      " 0.64672289 0.67549262 0.65694734 0.65258469 0.67775753 0.71160711\n",
      " 0.71809446 0.70204597 0.7297102  0.70333481 0.71259397 0.70608505\n",
      " 0.70067084 0.68292367 0.66957689 0.63618568 0.63796525 0.65271951\n",
      " 0.64143272 0.63511794 0.67478079 0.66725806 0.68550675 0.71406076\n",
      " 0.70684541 0.67849092 0.67475922 0.6593902  0.66354792 0.69449627\n",
      " 0.70535165 0.72586525 0.73040585 0.71316019 0.70308135 0.6921343\n",
      " 0.70151749 0.71424411 0.69954918 0.72541766 0.73149516 0.74314326\n",
      " 0.71108403 0.70936378 0.64320689 0.70536783 0.72658786 0.74817998\n",
      " 0.72534466 0.73831111 0.74433976 0.74744141 0.74932384 0.75058967\n",
      " 0.75155413 0.75247115 0.75354308 0.75490248 0.7566067  0.75865066\n",
      " 0.76098353 0.7635293  0.76620269 0.76892412 0.77162749 0.77426684\n",
      " 0.77681541 0.77926552 0.78162318 0.78390461]\n",
      "22 day output [[0.78613114]]\n",
      "23 day input [0.96179855 0.92592672 0.91380407 0.94385185 0.92948587 0.92615322\n",
      " 0.94721686 0.94779926 0.93459269 0.89501073 0.91121022 0.88586482\n",
      " 0.86113957 0.89080987 0.85385412 0.85771525 0.86476882 0.89573874\n",
      " 0.86003408 0.83778406 0.83632804 0.83097855 0.81954616 0.81524822\n",
      " 0.83295765 0.82638941 0.74455074 0.67794627 0.65284354 0.64672289\n",
      " 0.67549262 0.65694734 0.65258469 0.67775753 0.71160711 0.71809446\n",
      " 0.70204597 0.7297102  0.70333481 0.71259397 0.70608505 0.70067084\n",
      " 0.68292367 0.66957689 0.63618568 0.63796525 0.65271951 0.64143272\n",
      " 0.63511794 0.67478079 0.66725806 0.68550675 0.71406076 0.70684541\n",
      " 0.67849092 0.67475922 0.6593902  0.66354792 0.69449627 0.70535165\n",
      " 0.72586525 0.73040585 0.71316019 0.70308135 0.6921343  0.70151749\n",
      " 0.71424411 0.69954918 0.72541766 0.73149516 0.74314326 0.71108403\n",
      " 0.70936378 0.64320689 0.70536783 0.72658786 0.74817998 0.72534466\n",
      " 0.73831111 0.74433976 0.74744141 0.74932384 0.75058967 0.75155413\n",
      " 0.75247115 0.75354308 0.75490248 0.7566067  0.75865066 0.76098353\n",
      " 0.7635293  0.76620269 0.76892412 0.77162749 0.77426684 0.77681541\n",
      " 0.77926552 0.78162318 0.78390461 0.78613114]\n",
      "23 day output [[0.7883246]]\n",
      "24 day input [0.92592672 0.91380407 0.94385185 0.92948587 0.92615322 0.94721686\n",
      " 0.94779926 0.93459269 0.89501073 0.91121022 0.88586482 0.86113957\n",
      " 0.89080987 0.85385412 0.85771525 0.86476882 0.89573874 0.86003408\n",
      " 0.83778406 0.83632804 0.83097855 0.81954616 0.81524822 0.83295765\n",
      " 0.82638941 0.74455074 0.67794627 0.65284354 0.64672289 0.67549262\n",
      " 0.65694734 0.65258469 0.67775753 0.71160711 0.71809446 0.70204597\n",
      " 0.7297102  0.70333481 0.71259397 0.70608505 0.70067084 0.68292367\n",
      " 0.66957689 0.63618568 0.63796525 0.65271951 0.64143272 0.63511794\n",
      " 0.67478079 0.66725806 0.68550675 0.71406076 0.70684541 0.67849092\n",
      " 0.67475922 0.6593902  0.66354792 0.69449627 0.70535165 0.72586525\n",
      " 0.73040585 0.71316019 0.70308135 0.6921343  0.70151749 0.71424411\n",
      " 0.69954918 0.72541766 0.73149516 0.74314326 0.71108403 0.70936378\n",
      " 0.64320689 0.70536783 0.72658786 0.74817998 0.72534466 0.73831111\n",
      " 0.74433976 0.74744141 0.74932384 0.75058967 0.75155413 0.75247115\n",
      " 0.75354308 0.75490248 0.7566067  0.75865066 0.76098353 0.7635293\n",
      " 0.76620269 0.76892412 0.77162749 0.77426684 0.77681541 0.77926552\n",
      " 0.78162318 0.78390461 0.78613114 0.78832459]\n",
      "24 day output [[0.7905048]]\n",
      "25 day input [0.91380407 0.94385185 0.92948587 0.92615322 0.94721686 0.94779926\n",
      " 0.93459269 0.89501073 0.91121022 0.88586482 0.86113957 0.89080987\n",
      " 0.85385412 0.85771525 0.86476882 0.89573874 0.86003408 0.83778406\n",
      " 0.83632804 0.83097855 0.81954616 0.81524822 0.83295765 0.82638941\n",
      " 0.74455074 0.67794627 0.65284354 0.64672289 0.67549262 0.65694734\n",
      " 0.65258469 0.67775753 0.71160711 0.71809446 0.70204597 0.7297102\n",
      " 0.70333481 0.71259397 0.70608505 0.70067084 0.68292367 0.66957689\n",
      " 0.63618568 0.63796525 0.65271951 0.64143272 0.63511794 0.67478079\n",
      " 0.66725806 0.68550675 0.71406076 0.70684541 0.67849092 0.67475922\n",
      " 0.6593902  0.66354792 0.69449627 0.70535165 0.72586525 0.73040585\n",
      " 0.71316019 0.70308135 0.6921343  0.70151749 0.71424411 0.69954918\n",
      " 0.72541766 0.73149516 0.74314326 0.71108403 0.70936378 0.64320689\n",
      " 0.70536783 0.72658786 0.74817998 0.72534466 0.73831111 0.74433976\n",
      " 0.74744141 0.74932384 0.75058967 0.75155413 0.75247115 0.75354308\n",
      " 0.75490248 0.7566067  0.75865066 0.76098353 0.7635293  0.76620269\n",
      " 0.76892412 0.77162749 0.77426684 0.77681541 0.77926552 0.78162318\n",
      " 0.78390461 0.78613114 0.78832459 0.79050481]\n",
      "25 day output [[0.7926878]]\n",
      "26 day input [0.94385185 0.92948587 0.92615322 0.94721686 0.94779926 0.93459269\n",
      " 0.89501073 0.91121022 0.88586482 0.86113957 0.89080987 0.85385412\n",
      " 0.85771525 0.86476882 0.89573874 0.86003408 0.83778406 0.83632804\n",
      " 0.83097855 0.81954616 0.81524822 0.83295765 0.82638941 0.74455074\n",
      " 0.67794627 0.65284354 0.64672289 0.67549262 0.65694734 0.65258469\n",
      " 0.67775753 0.71160711 0.71809446 0.70204597 0.7297102  0.70333481\n",
      " 0.71259397 0.70608505 0.70067084 0.68292367 0.66957689 0.63618568\n",
      " 0.63796525 0.65271951 0.64143272 0.63511794 0.67478079 0.66725806\n",
      " 0.68550675 0.71406076 0.70684541 0.67849092 0.67475922 0.6593902\n",
      " 0.66354792 0.69449627 0.70535165 0.72586525 0.73040585 0.71316019\n",
      " 0.70308135 0.6921343  0.70151749 0.71424411 0.69954918 0.72541766\n",
      " 0.73149516 0.74314326 0.71108403 0.70936378 0.64320689 0.70536783\n",
      " 0.72658786 0.74817998 0.72534466 0.73831111 0.74433976 0.74744141\n",
      " 0.74932384 0.75058967 0.75155413 0.75247115 0.75354308 0.75490248\n",
      " 0.7566067  0.75865066 0.76098353 0.7635293  0.76620269 0.76892412\n",
      " 0.77162749 0.77426684 0.77681541 0.77926552 0.78162318 0.78390461\n",
      " 0.78613114 0.78832459 0.79050481 0.79268777]\n",
      "26 day output [[0.7948833]]\n",
      "27 day input [0.92948587 0.92615322 0.94721686 0.94779926 0.93459269 0.89501073\n",
      " 0.91121022 0.88586482 0.86113957 0.89080987 0.85385412 0.85771525\n",
      " 0.86476882 0.89573874 0.86003408 0.83778406 0.83632804 0.83097855\n",
      " 0.81954616 0.81524822 0.83295765 0.82638941 0.74455074 0.67794627\n",
      " 0.65284354 0.64672289 0.67549262 0.65694734 0.65258469 0.67775753\n",
      " 0.71160711 0.71809446 0.70204597 0.7297102  0.70333481 0.71259397\n",
      " 0.70608505 0.70067084 0.68292367 0.66957689 0.63618568 0.63796525\n",
      " 0.65271951 0.64143272 0.63511794 0.67478079 0.66725806 0.68550675\n",
      " 0.71406076 0.70684541 0.67849092 0.67475922 0.6593902  0.66354792\n",
      " 0.69449627 0.70535165 0.72586525 0.73040585 0.71316019 0.70308135\n",
      " 0.6921343  0.70151749 0.71424411 0.69954918 0.72541766 0.73149516\n",
      " 0.74314326 0.71108403 0.70936378 0.64320689 0.70536783 0.72658786\n",
      " 0.74817998 0.72534466 0.73831111 0.74433976 0.74744141 0.74932384\n",
      " 0.75058967 0.75155413 0.75247115 0.75354308 0.75490248 0.7566067\n",
      " 0.75865066 0.76098353 0.7635293  0.76620269 0.76892412 0.77162749\n",
      " 0.77426684 0.77681541 0.77926552 0.78162318 0.78390461 0.78613114\n",
      " 0.78832459 0.79050481 0.79268777 0.79488331]\n",
      "27 day output [[0.79709727]]\n",
      "28 day input [0.92615322 0.94721686 0.94779926 0.93459269 0.89501073 0.91121022\n",
      " 0.88586482 0.86113957 0.89080987 0.85385412 0.85771525 0.86476882\n",
      " 0.89573874 0.86003408 0.83778406 0.83632804 0.83097855 0.81954616\n",
      " 0.81524822 0.83295765 0.82638941 0.74455074 0.67794627 0.65284354\n",
      " 0.64672289 0.67549262 0.65694734 0.65258469 0.67775753 0.71160711\n",
      " 0.71809446 0.70204597 0.7297102  0.70333481 0.71259397 0.70608505\n",
      " 0.70067084 0.68292367 0.66957689 0.63618568 0.63796525 0.65271951\n",
      " 0.64143272 0.63511794 0.67478079 0.66725806 0.68550675 0.71406076\n",
      " 0.70684541 0.67849092 0.67475922 0.6593902  0.66354792 0.69449627\n",
      " 0.70535165 0.72586525 0.73040585 0.71316019 0.70308135 0.6921343\n",
      " 0.70151749 0.71424411 0.69954918 0.72541766 0.73149516 0.74314326\n",
      " 0.71108403 0.70936378 0.64320689 0.70536783 0.72658786 0.74817998\n",
      " 0.72534466 0.73831111 0.74433976 0.74744141 0.74932384 0.75058967\n",
      " 0.75155413 0.75247115 0.75354308 0.75490248 0.7566067  0.75865066\n",
      " 0.76098353 0.7635293  0.76620269 0.76892412 0.77162749 0.77426684\n",
      " 0.77681541 0.77926552 0.78162318 0.78390461 0.78613114 0.78832459\n",
      " 0.79050481 0.79268777 0.79488331 0.79709727]\n",
      "28 day output [[0.7993308]]\n",
      "29 day input [0.94721686 0.94779926 0.93459269 0.89501073 0.91121022 0.88586482\n",
      " 0.86113957 0.89080987 0.85385412 0.85771525 0.86476882 0.89573874\n",
      " 0.86003408 0.83778406 0.83632804 0.83097855 0.81954616 0.81524822\n",
      " 0.83295765 0.82638941 0.74455074 0.67794627 0.65284354 0.64672289\n",
      " 0.67549262 0.65694734 0.65258469 0.67775753 0.71160711 0.71809446\n",
      " 0.70204597 0.7297102  0.70333481 0.71259397 0.70608505 0.70067084\n",
      " 0.68292367 0.66957689 0.63618568 0.63796525 0.65271951 0.64143272\n",
      " 0.63511794 0.67478079 0.66725806 0.68550675 0.71406076 0.70684541\n",
      " 0.67849092 0.67475922 0.6593902  0.66354792 0.69449627 0.70535165\n",
      " 0.72586525 0.73040585 0.71316019 0.70308135 0.6921343  0.70151749\n",
      " 0.71424411 0.69954918 0.72541766 0.73149516 0.74314326 0.71108403\n",
      " 0.70936378 0.64320689 0.70536783 0.72658786 0.74817998 0.72534466\n",
      " 0.73831111 0.74433976 0.74744141 0.74932384 0.75058967 0.75155413\n",
      " 0.75247115 0.75354308 0.75490248 0.7566067  0.75865066 0.76098353\n",
      " 0.7635293  0.76620269 0.76892412 0.77162749 0.77426684 0.77681541\n",
      " 0.77926552 0.78162318 0.78390461 0.78613114 0.78832459 0.79050481\n",
      " 0.79268777 0.79488331 0.79709727 0.79933077]\n",
      "29 day output [[0.8015813]]\n",
      "30 day input [0.94779926 0.93459269 0.89501073 0.91121022 0.88586482 0.86113957\n",
      " 0.89080987 0.85385412 0.85771525 0.86476882 0.89573874 0.86003408\n",
      " 0.83778406 0.83632804 0.83097855 0.81954616 0.81524822 0.83295765\n",
      " 0.82638941 0.74455074 0.67794627 0.65284354 0.64672289 0.67549262\n",
      " 0.65694734 0.65258469 0.67775753 0.71160711 0.71809446 0.70204597\n",
      " 0.7297102  0.70333481 0.71259397 0.70608505 0.70067084 0.68292367\n",
      " 0.66957689 0.63618568 0.63796525 0.65271951 0.64143272 0.63511794\n",
      " 0.67478079 0.66725806 0.68550675 0.71406076 0.70684541 0.67849092\n",
      " 0.67475922 0.6593902  0.66354792 0.69449627 0.70535165 0.72586525\n",
      " 0.73040585 0.71316019 0.70308135 0.6921343  0.70151749 0.71424411\n",
      " 0.69954918 0.72541766 0.73149516 0.74314326 0.71108403 0.70936378\n",
      " 0.64320689 0.70536783 0.72658786 0.74817998 0.72534466 0.73831111\n",
      " 0.74433976 0.74744141 0.74932384 0.75058967 0.75155413 0.75247115\n",
      " 0.75354308 0.75490248 0.7566067  0.75865066 0.76098353 0.7635293\n",
      " 0.76620269 0.76892412 0.77162749 0.77426684 0.77681541 0.77926552\n",
      " 0.78162318 0.78390461 0.78613114 0.78832459 0.79050481 0.79268777\n",
      " 0.79488331 0.79709727 0.79933077 0.80158132]\n",
      "30 day output [[0.80384433]]\n",
      "31 day input [0.93459269 0.89501073 0.91121022 0.88586482 0.86113957 0.89080987\n",
      " 0.85385412 0.85771525 0.86476882 0.89573874 0.86003408 0.83778406\n",
      " 0.83632804 0.83097855 0.81954616 0.81524822 0.83295765 0.82638941\n",
      " 0.74455074 0.67794627 0.65284354 0.64672289 0.67549262 0.65694734\n",
      " 0.65258469 0.67775753 0.71160711 0.71809446 0.70204597 0.7297102\n",
      " 0.70333481 0.71259397 0.70608505 0.70067084 0.68292367 0.66957689\n",
      " 0.63618568 0.63796525 0.65271951 0.64143272 0.63511794 0.67478079\n",
      " 0.66725806 0.68550675 0.71406076 0.70684541 0.67849092 0.67475922\n",
      " 0.6593902  0.66354792 0.69449627 0.70535165 0.72586525 0.73040585\n",
      " 0.71316019 0.70308135 0.6921343  0.70151749 0.71424411 0.69954918\n",
      " 0.72541766 0.73149516 0.74314326 0.71108403 0.70936378 0.64320689\n",
      " 0.70536783 0.72658786 0.74817998 0.72534466 0.73831111 0.74433976\n",
      " 0.74744141 0.74932384 0.75058967 0.75155413 0.75247115 0.75354308\n",
      " 0.75490248 0.7566067  0.75865066 0.76098353 0.7635293  0.76620269\n",
      " 0.76892412 0.77162749 0.77426684 0.77681541 0.77926552 0.78162318\n",
      " 0.78390461 0.78613114 0.78832459 0.79050481 0.79268777 0.79488331\n",
      " 0.79709727 0.79933077 0.80158132 0.80384433]\n",
      "31 day output [[0.80611485]]\n",
      "32 day input [0.89501073 0.91121022 0.88586482 0.86113957 0.89080987 0.85385412\n",
      " 0.85771525 0.86476882 0.89573874 0.86003408 0.83778406 0.83632804\n",
      " 0.83097855 0.81954616 0.81524822 0.83295765 0.82638941 0.74455074\n",
      " 0.67794627 0.65284354 0.64672289 0.67549262 0.65694734 0.65258469\n",
      " 0.67775753 0.71160711 0.71809446 0.70204597 0.7297102  0.70333481\n",
      " 0.71259397 0.70608505 0.70067084 0.68292367 0.66957689 0.63618568\n",
      " 0.63796525 0.65271951 0.64143272 0.63511794 0.67478079 0.66725806\n",
      " 0.68550675 0.71406076 0.70684541 0.67849092 0.67475922 0.6593902\n",
      " 0.66354792 0.69449627 0.70535165 0.72586525 0.73040585 0.71316019\n",
      " 0.70308135 0.6921343  0.70151749 0.71424411 0.69954918 0.72541766\n",
      " 0.73149516 0.74314326 0.71108403 0.70936378 0.64320689 0.70536783\n",
      " 0.72658786 0.74817998 0.72534466 0.73831111 0.74433976 0.74744141\n",
      " 0.74932384 0.75058967 0.75155413 0.75247115 0.75354308 0.75490248\n",
      " 0.7566067  0.75865066 0.76098353 0.7635293  0.76620269 0.76892412\n",
      " 0.77162749 0.77426684 0.77681541 0.77926552 0.78162318 0.78390461\n",
      " 0.78613114 0.78832459 0.79050481 0.79268777 0.79488331 0.79709727\n",
      " 0.79933077 0.80158132 0.80384433 0.80611485]\n",
      "32 day output [[0.808388]]\n",
      "33 day input [0.91121022 0.88586482 0.86113957 0.89080987 0.85385412 0.85771525\n",
      " 0.86476882 0.89573874 0.86003408 0.83778406 0.83632804 0.83097855\n",
      " 0.81954616 0.81524822 0.83295765 0.82638941 0.74455074 0.67794627\n",
      " 0.65284354 0.64672289 0.67549262 0.65694734 0.65258469 0.67775753\n",
      " 0.71160711 0.71809446 0.70204597 0.7297102  0.70333481 0.71259397\n",
      " 0.70608505 0.70067084 0.68292367 0.66957689 0.63618568 0.63796525\n",
      " 0.65271951 0.64143272 0.63511794 0.67478079 0.66725806 0.68550675\n",
      " 0.71406076 0.70684541 0.67849092 0.67475922 0.6593902  0.66354792\n",
      " 0.69449627 0.70535165 0.72586525 0.73040585 0.71316019 0.70308135\n",
      " 0.6921343  0.70151749 0.71424411 0.69954918 0.72541766 0.73149516\n",
      " 0.74314326 0.71108403 0.70936378 0.64320689 0.70536783 0.72658786\n",
      " 0.74817998 0.72534466 0.73831111 0.74433976 0.74744141 0.74932384\n",
      " 0.75058967 0.75155413 0.75247115 0.75354308 0.75490248 0.7566067\n",
      " 0.75865066 0.76098353 0.7635293  0.76620269 0.76892412 0.77162749\n",
      " 0.77426684 0.77681541 0.77926552 0.78162318 0.78390461 0.78613114\n",
      " 0.78832459 0.79050481 0.79268777 0.79488331 0.79709727 0.79933077\n",
      " 0.80158132 0.80384433 0.80611485 0.80838799]\n",
      "33 day output [[0.81065834]]\n",
      "34 day input [0.88586482 0.86113957 0.89080987 0.85385412 0.85771525 0.86476882\n",
      " 0.89573874 0.86003408 0.83778406 0.83632804 0.83097855 0.81954616\n",
      " 0.81524822 0.83295765 0.82638941 0.74455074 0.67794627 0.65284354\n",
      " 0.64672289 0.67549262 0.65694734 0.65258469 0.67775753 0.71160711\n",
      " 0.71809446 0.70204597 0.7297102  0.70333481 0.71259397 0.70608505\n",
      " 0.70067084 0.68292367 0.66957689 0.63618568 0.63796525 0.65271951\n",
      " 0.64143272 0.63511794 0.67478079 0.66725806 0.68550675 0.71406076\n",
      " 0.70684541 0.67849092 0.67475922 0.6593902  0.66354792 0.69449627\n",
      " 0.70535165 0.72586525 0.73040585 0.71316019 0.70308135 0.6921343\n",
      " 0.70151749 0.71424411 0.69954918 0.72541766 0.73149516 0.74314326\n",
      " 0.71108403 0.70936378 0.64320689 0.70536783 0.72658786 0.74817998\n",
      " 0.72534466 0.73831111 0.74433976 0.74744141 0.74932384 0.75058967\n",
      " 0.75155413 0.75247115 0.75354308 0.75490248 0.7566067  0.75865066\n",
      " 0.76098353 0.7635293  0.76620269 0.76892412 0.77162749 0.77426684\n",
      " 0.77681541 0.77926552 0.78162318 0.78390461 0.78613114 0.78832459\n",
      " 0.79050481 0.79268777 0.79488331 0.79709727 0.79933077 0.80158132\n",
      " 0.80384433 0.80611485 0.80838799 0.81065834]\n",
      "34 day output [[0.81292343]]\n",
      "35 day input [0.86113957 0.89080987 0.85385412 0.85771525 0.86476882 0.89573874\n",
      " 0.86003408 0.83778406 0.83632804 0.83097855 0.81954616 0.81524822\n",
      " 0.83295765 0.82638941 0.74455074 0.67794627 0.65284354 0.64672289\n",
      " 0.67549262 0.65694734 0.65258469 0.67775753 0.71160711 0.71809446\n",
      " 0.70204597 0.7297102  0.70333481 0.71259397 0.70608505 0.70067084\n",
      " 0.68292367 0.66957689 0.63618568 0.63796525 0.65271951 0.64143272\n",
      " 0.63511794 0.67478079 0.66725806 0.68550675 0.71406076 0.70684541\n",
      " 0.67849092 0.67475922 0.6593902  0.66354792 0.69449627 0.70535165\n",
      " 0.72586525 0.73040585 0.71316019 0.70308135 0.6921343  0.70151749\n",
      " 0.71424411 0.69954918 0.72541766 0.73149516 0.74314326 0.71108403\n",
      " 0.70936378 0.64320689 0.70536783 0.72658786 0.74817998 0.72534466\n",
      " 0.73831111 0.74433976 0.74744141 0.74932384 0.75058967 0.75155413\n",
      " 0.75247115 0.75354308 0.75490248 0.7566067  0.75865066 0.76098353\n",
      " 0.7635293  0.76620269 0.76892412 0.77162749 0.77426684 0.77681541\n",
      " 0.77926552 0.78162318 0.78390461 0.78613114 0.78832459 0.79050481\n",
      " 0.79268777 0.79488331 0.79709727 0.79933077 0.80158132 0.80384433\n",
      " 0.80611485 0.80838799 0.81065834 0.81292343]\n",
      "35 day output [[0.8151809]]\n",
      "[[0.7253446578979492], [0.7383111119270325], [0.7443397641181946], [0.7474414110183716], [0.749323844909668], [0.7505896687507629], [0.7515541315078735], [0.7524711489677429], [0.7535430788993835], [0.7549024820327759], [0.7566066980361938], [0.7586506605148315], [0.7609835267066956], [0.7635293006896973], [0.7662026882171631], [0.7689241170883179], [0.7716274857521057], [0.7742668390274048], [0.7768154144287109], [0.7792655229568481], [0.7816231846809387], [0.7839046120643616], [0.7861311435699463], [0.7883245944976807], [0.7905048131942749], [0.7926877737045288], [0.7948833107948303], [0.7970972657203674], [0.7993307709693909], [0.8015813231468201], [0.8038443326950073], [0.8061148524284363], [0.8083879947662354], [0.81065833568573], [0.8129234313964844], [0.8151808977127075]]\n"
     ]
    }
   ],
   "source": [
    "from numpy import array\n",
    "\n",
    "lst_output=[]\n",
    "n_steps=100\n",
    "i=0\n",
    "while(i<36):\n",
    "    \n",
    "    if(len(temp_input)>100):\n",
    "        #print(temp_input)\n",
    "        x_input=np.array(temp_input[1:])\n",
    "        print(\"{} day input {}\".format(i,x_input))\n",
    "        x_input=x_input.reshape(1,-1)\n",
    "        x_input = x_input.reshape((1, n_steps, 1))\n",
    "        #print(x_input)\n",
    "        yhat = model.predict(x_input, verbose=0)\n",
    "        print(\"{} day output {}\".format(i,yhat))\n",
    "        temp_input.extend(yhat[0].tolist())\n",
    "        temp_input=temp_input[1:]\n",
    "        #print(temp_input)\n",
    "        lst_output.extend(yhat.tolist())\n",
    "        i=i+1\n",
    "    else:\n",
    "        x_input = x_input.reshape((1, n_steps,1))\n",
    "        yhat = model.predict(x_input, verbose=0)\n",
    "        print(yhat[0])\n",
    "        temp_input.extend(yhat[0].tolist())\n",
    "        print(len(temp_input))\n",
    "        lst_output.extend(yhat.tolist())\n",
    "        i=i+1\n",
    "    \n",
    "\n",
    "print(lst_output)"
   ]
  },
  {
   "cell_type": "code",
   "execution_count": null,
   "id": "9fd2f82d",
   "metadata": {
    "id": "ujQELf1Tucph",
    "papermill": {
     "duration": 0.185189,
     "end_time": "2022-10-16T12:39:59.897978",
     "exception": false,
     "start_time": "2022-10-16T12:39:59.712789",
     "status": "completed"
    },
    "tags": []
   },
   "outputs": [],
   "source": []
  },
  {
   "cell_type": "code",
   "execution_count": 38,
   "id": "d5b2b3c1",
   "metadata": {
    "execution": {
     "iopub.execute_input": "2022-10-16T12:40:00.158276Z",
     "iopub.status.busy": "2022-10-16T12:40:00.157052Z",
     "iopub.status.idle": "2022-10-16T12:40:00.164318Z",
     "shell.execute_reply": "2022-10-16T12:40:00.162985Z"
    },
    "id": "V_RbV28qzOjy",
    "outputId": "3aad54b0-916f-484f-a21e-094352830cd9",
    "papermill": {
     "duration": 0.137692,
     "end_time": "2022-10-16T12:40:00.166923",
     "exception": false,
     "start_time": "2022-10-16T12:40:00.029231",
     "status": "completed"
    },
    "tags": []
   },
   "outputs": [
    {
     "data": {
      "text/plain": [
       "580"
      ]
     },
     "execution_count": 38,
     "metadata": {},
     "output_type": "execute_result"
    }
   ],
   "source": [
    "len(test_data)\n"
   ]
  },
  {
   "cell_type": "code",
   "execution_count": 39,
   "id": "addcd336",
   "metadata": {
    "execution": {
     "iopub.execute_input": "2022-10-16T12:40:00.422669Z",
     "iopub.status.busy": "2022-10-16T12:40:00.421470Z",
     "iopub.status.idle": "2022-10-16T12:40:00.429083Z",
     "shell.execute_reply": "2022-10-16T12:40:00.428156Z"
    },
    "id": "3ZugrmyO26C-",
    "outputId": "e61ff695-1807-4047-9f29-de3114812173",
    "papermill": {
     "duration": 0.138481,
     "end_time": "2022-10-16T12:40:00.431471",
     "exception": false,
     "start_time": "2022-10-16T12:40:00.292990",
     "status": "completed"
    },
    "tags": []
   },
   "outputs": [
    {
     "data": {
      "text/plain": [
       "36"
      ]
     },
     "execution_count": 39,
     "metadata": {},
     "output_type": "execute_result"
    }
   ],
   "source": [
    "len(lst_output)"
   ]
  },
  {
   "cell_type": "code",
   "execution_count": 40,
   "id": "2c5870b2",
   "metadata": {
    "execution": {
     "iopub.execute_input": "2022-10-16T12:40:00.692249Z",
     "iopub.status.busy": "2022-10-16T12:40:00.691635Z",
     "iopub.status.idle": "2022-10-16T12:40:00.720918Z",
     "shell.execute_reply": "2022-10-16T12:40:00.719772Z"
    },
    "id": "4jzGgNAS2-8E",
    "outputId": "d226a118-2ce6-47f6-c201-89a0f2963d4c",
    "papermill": {
     "duration": 0.16338,
     "end_time": "2022-10-16T12:40:00.723298",
     "exception": false,
     "start_time": "2022-10-16T12:40:00.559918",
     "status": "completed"
    },
    "tags": []
   },
   "outputs": [
    {
     "data": {
      "text/html": [
       "<div>\n",
       "<style scoped>\n",
       "    .dataframe tbody tr th:only-of-type {\n",
       "        vertical-align: middle;\n",
       "    }\n",
       "\n",
       "    .dataframe tbody tr th {\n",
       "        vertical-align: top;\n",
       "    }\n",
       "\n",
       "    .dataframe thead th {\n",
       "        text-align: right;\n",
       "    }\n",
       "</style>\n",
       "<table border=\"1\" class=\"dataframe\">\n",
       "  <thead>\n",
       "    <tr style=\"text-align: right;\">\n",
       "      <th></th>\n",
       "      <th>Date</th>\n",
       "      <th>Open</th>\n",
       "      <th>High</th>\n",
       "      <th>Low</th>\n",
       "      <th>Volume</th>\n",
       "    </tr>\n",
       "  </thead>\n",
       "  <tbody>\n",
       "    <tr>\n",
       "      <th>0</th>\n",
       "      <td>2022-08-01</td>\n",
       "      <td>2455.71</td>\n",
       "      <td>2500.26</td>\n",
       "      <td>2447.87</td>\n",
       "      <td>24327600</td>\n",
       "    </tr>\n",
       "    <tr>\n",
       "      <th>1</th>\n",
       "      <td>2022-08-02</td>\n",
       "      <td>2466.68</td>\n",
       "      <td>2494.73</td>\n",
       "      <td>2447.99</td>\n",
       "      <td>19076300</td>\n",
       "    </tr>\n",
       "    <tr>\n",
       "      <th>2</th>\n",
       "      <td>2022-08-03</td>\n",
       "      <td>2473.29</td>\n",
       "      <td>2507.59</td>\n",
       "      <td>2449.39</td>\n",
       "      <td>27459700</td>\n",
       "    </tr>\n",
       "    <tr>\n",
       "      <th>3</th>\n",
       "      <td>2022-08-04</td>\n",
       "      <td>2475.98</td>\n",
       "      <td>2487.75</td>\n",
       "      <td>2419.88</td>\n",
       "      <td>23699600</td>\n",
       "    </tr>\n",
       "    <tr>\n",
       "      <th>4</th>\n",
       "      <td>2022-08-05</td>\n",
       "      <td>2414.66</td>\n",
       "      <td>2444.17</td>\n",
       "      <td>2409.01</td>\n",
       "      <td>18912400</td>\n",
       "    </tr>\n",
       "  </tbody>\n",
       "</table>\n",
       "</div>"
      ],
      "text/plain": [
       "         Date     Open     High      Low    Volume\n",
       "0  2022-08-01  2455.71  2500.26  2447.87  24327600\n",
       "1  2022-08-02  2466.68  2494.73  2447.99  19076300\n",
       "2  2022-08-03  2473.29  2507.59  2449.39  27459700\n",
       "3  2022-08-04  2475.98  2487.75  2419.88  23699600\n",
       "4  2022-08-05  2414.66  2444.17  2409.01  18912400"
      ]
     },
     "execution_count": 40,
     "metadata": {},
     "output_type": "execute_result"
    }
   ],
   "source": [
    "df_test = pd.read_csv('../input/data-analytics-ue20cs312/test.csv')\n",
    "df_test.head()"
   ]
  },
  {
   "cell_type": "code",
   "execution_count": 41,
   "id": "673de2ad",
   "metadata": {
    "execution": {
     "iopub.execute_input": "2022-10-16T12:40:00.981343Z",
     "iopub.status.busy": "2022-10-16T12:40:00.980630Z",
     "iopub.status.idle": "2022-10-16T12:40:00.985297Z",
     "shell.execute_reply": "2022-10-16T12:40:00.984441Z"
    },
    "id": "HK_XpViP3zjy",
    "papermill": {
     "duration": 0.135779,
     "end_time": "2022-10-16T12:40:00.987389",
     "exception": false,
     "start_time": "2022-10-16T12:40:00.851610",
     "status": "completed"
    },
    "tags": []
   },
   "outputs": [],
   "source": [
    "lst_output = scaler.inverse_transform(lst_output)"
   ]
  },
  {
   "cell_type": "code",
   "execution_count": null,
   "id": "3573d4a1",
   "metadata": {
    "id": "gxUlmGG-4Bvw",
    "papermill": {
     "duration": 0.126312,
     "end_time": "2022-10-16T12:40:01.246249",
     "exception": false,
     "start_time": "2022-10-16T12:40:01.119937",
     "status": "completed"
    },
    "tags": []
   },
   "outputs": [],
   "source": []
  },
  {
   "cell_type": "code",
   "execution_count": 42,
   "id": "c01c7490",
   "metadata": {
    "execution": {
     "iopub.execute_input": "2022-10-16T12:40:01.502041Z",
     "iopub.status.busy": "2022-10-16T12:40:01.501570Z",
     "iopub.status.idle": "2022-10-16T12:40:01.508357Z",
     "shell.execute_reply": "2022-10-16T12:40:01.507574Z"
    },
    "id": "MoXLOogn4Vog",
    "outputId": "1f096c21-366d-4050-b325-ddbeef12fd09",
    "papermill": {
     "duration": 0.137315,
     "end_time": "2022-10-16T12:40:01.510515",
     "exception": false,
     "start_time": "2022-10-16T12:40:01.373200",
     "status": "completed"
    },
    "tags": []
   },
   "outputs": [
    {
     "data": {
      "text/plain": [
       "array([[2432.58462671],\n",
       "       [2456.62935974],\n",
       "       [2467.80877179],\n",
       "       [2473.56040376],\n",
       "       [2477.05115152],\n",
       "       [2479.39846994],\n",
       "       [2481.18695039],\n",
       "       [2482.88744922],\n",
       "       [2484.87521465],\n",
       "       [2487.39606463],\n",
       "       [2490.5563287 ],\n",
       "       [2494.34661185],\n",
       "       [2498.67263225],\n",
       "       [2503.39346461],\n",
       "       [2508.35094098],\n",
       "       [2513.39750425],\n",
       "       [2518.41057703],\n",
       "       [2523.30494096],\n",
       "       [2528.03096821],\n",
       "       [2532.57440046],\n",
       "       [2536.94640121],\n",
       "       [2541.17703452],\n",
       "       [2545.30587001],\n",
       "       [2549.37336154],\n",
       "       [2553.41631549],\n",
       "       [2557.4643538 ],\n",
       "       [2561.53571387],\n",
       "       [2565.64122761],\n",
       "       [2569.78299507],\n",
       "       [2573.95637402],\n",
       "       [2578.15285366],\n",
       "       [2582.36326005],\n",
       "       [2586.57852973],\n",
       "       [2590.78860453],\n",
       "       [2594.98895271],\n",
       "       [2599.1751531 ]])"
      ]
     },
     "execution_count": 42,
     "metadata": {},
     "output_type": "execute_result"
    }
   ],
   "source": [
    "lst_output"
   ]
  },
  {
   "cell_type": "code",
   "execution_count": 43,
   "id": "5a156994",
   "metadata": {
    "execution": {
     "iopub.execute_input": "2022-10-16T12:40:01.769141Z",
     "iopub.status.busy": "2022-10-16T12:40:01.768682Z",
     "iopub.status.idle": "2022-10-16T12:40:01.774827Z",
     "shell.execute_reply": "2022-10-16T12:40:01.773883Z"
    },
    "id": "giCSUJ5t3Xaa",
    "papermill": {
     "duration": 0.138962,
     "end_time": "2022-10-16T12:40:01.777189",
     "exception": false,
     "start_time": "2022-10-16T12:40:01.638227",
     "status": "completed"
    },
    "tags": []
   },
   "outputs": [],
   "source": [
    "df_test['Close'] = lst_output[:35]"
   ]
  },
  {
   "cell_type": "code",
   "execution_count": 44,
   "id": "3afc0a66",
   "metadata": {
    "execution": {
     "iopub.execute_input": "2022-10-16T12:40:02.039903Z",
     "iopub.status.busy": "2022-10-16T12:40:02.038632Z",
     "iopub.status.idle": "2022-10-16T12:40:02.053199Z",
     "shell.execute_reply": "2022-10-16T12:40:02.051771Z"
    },
    "id": "Aojzi0R_3lfe",
    "outputId": "8fa7794f-ceee-429e-8d4a-ef3ca72ad266",
    "papermill": {
     "duration": 0.147459,
     "end_time": "2022-10-16T12:40:02.055694",
     "exception": false,
     "start_time": "2022-10-16T12:40:01.908235",
     "status": "completed"
    },
    "tags": []
   },
   "outputs": [
    {
     "data": {
      "text/html": [
       "<div>\n",
       "<style scoped>\n",
       "    .dataframe tbody tr th:only-of-type {\n",
       "        vertical-align: middle;\n",
       "    }\n",
       "\n",
       "    .dataframe tbody tr th {\n",
       "        vertical-align: top;\n",
       "    }\n",
       "\n",
       "    .dataframe thead th {\n",
       "        text-align: right;\n",
       "    }\n",
       "</style>\n",
       "<table border=\"1\" class=\"dataframe\">\n",
       "  <thead>\n",
       "    <tr style=\"text-align: right;\">\n",
       "      <th></th>\n",
       "      <th>Date</th>\n",
       "      <th>Open</th>\n",
       "      <th>High</th>\n",
       "      <th>Low</th>\n",
       "      <th>Volume</th>\n",
       "      <th>Close</th>\n",
       "    </tr>\n",
       "  </thead>\n",
       "  <tbody>\n",
       "    <tr>\n",
       "      <th>0</th>\n",
       "      <td>2022-08-01</td>\n",
       "      <td>2455.71</td>\n",
       "      <td>2500.26</td>\n",
       "      <td>2447.87</td>\n",
       "      <td>24327600</td>\n",
       "      <td>2432.584627</td>\n",
       "    </tr>\n",
       "    <tr>\n",
       "      <th>1</th>\n",
       "      <td>2022-08-02</td>\n",
       "      <td>2466.68</td>\n",
       "      <td>2494.73</td>\n",
       "      <td>2447.99</td>\n",
       "      <td>19076300</td>\n",
       "      <td>2456.629360</td>\n",
       "    </tr>\n",
       "    <tr>\n",
       "      <th>2</th>\n",
       "      <td>2022-08-03</td>\n",
       "      <td>2473.29</td>\n",
       "      <td>2507.59</td>\n",
       "      <td>2449.39</td>\n",
       "      <td>27459700</td>\n",
       "      <td>2467.808772</td>\n",
       "    </tr>\n",
       "    <tr>\n",
       "      <th>3</th>\n",
       "      <td>2022-08-04</td>\n",
       "      <td>2475.98</td>\n",
       "      <td>2487.75</td>\n",
       "      <td>2419.88</td>\n",
       "      <td>23699600</td>\n",
       "      <td>2473.560404</td>\n",
       "    </tr>\n",
       "    <tr>\n",
       "      <th>4</th>\n",
       "      <td>2022-08-05</td>\n",
       "      <td>2414.66</td>\n",
       "      <td>2444.17</td>\n",
       "      <td>2409.01</td>\n",
       "      <td>18912400</td>\n",
       "      <td>2477.051152</td>\n",
       "    </tr>\n",
       "  </tbody>\n",
       "</table>\n",
       "</div>"
      ],
      "text/plain": [
       "         Date     Open     High      Low    Volume        Close\n",
       "0  2022-08-01  2455.71  2500.26  2447.87  24327600  2432.584627\n",
       "1  2022-08-02  2466.68  2494.73  2447.99  19076300  2456.629360\n",
       "2  2022-08-03  2473.29  2507.59  2449.39  27459700  2467.808772\n",
       "3  2022-08-04  2475.98  2487.75  2419.88  23699600  2473.560404\n",
       "4  2022-08-05  2414.66  2444.17  2409.01  18912400  2477.051152"
      ]
     },
     "execution_count": 44,
     "metadata": {},
     "output_type": "execute_result"
    }
   ],
   "source": [
    "df_test.head()"
   ]
  },
  {
   "cell_type": "code",
   "execution_count": 45,
   "id": "61521a5c",
   "metadata": {
    "execution": {
     "iopub.execute_input": "2022-10-16T12:40:02.315653Z",
     "iopub.status.busy": "2022-10-16T12:40:02.314331Z",
     "iopub.status.idle": "2022-10-16T12:40:02.533503Z",
     "shell.execute_reply": "2022-10-16T12:40:02.532512Z"
    },
    "id": "Di-iiopY3nR_",
    "outputId": "196843c2-4b5f-45ea-d877-e794dfe3e16a",
    "papermill": {
     "duration": 0.354592,
     "end_time": "2022-10-16T12:40:02.539241",
     "exception": false,
     "start_time": "2022-10-16T12:40:02.184649",
     "status": "completed"
    },
    "tags": []
   },
   "outputs": [
    {
     "data": {
      "image/png": "[encoded data removed]",
      "text/plain": [
       "<Figure size 1008x1008 with 1 Axes>"
      ]
     },
     "metadata": {
      "needs_background": "light"
     },
     "output_type": "display_data"
    }
   ],
   "source": [
    "plt.figure(figsize=(14,14))\n",
    "plt.plot(df_test['Close'])\n",
    "plt.title('Historical Stock Value')\n",
    "plt.xlabel('Date')\n",
    "plt.ylabel('Stock Price')\n",
    "plt.show()"
   ]
  },
  {
   "cell_type": "code",
   "execution_count": 46,
   "id": "ce320630",
   "metadata": {
    "execution": {
     "iopub.execute_input": "2022-10-16T12:40:02.796854Z",
     "iopub.status.busy": "2022-10-16T12:40:02.795632Z",
     "iopub.status.idle": "2022-10-16T12:40:02.800787Z",
     "shell.execute_reply": "2022-10-16T12:40:02.799995Z"
    },
    "id": "qxQRR0N34_Yj",
    "papermill": {
     "duration": 0.136062,
     "end_time": "2022-10-16T12:40:02.802890",
     "exception": false,
     "start_time": "2022-10-16T12:40:02.666828",
     "status": "completed"
    },
    "tags": []
   },
   "outputs": [],
   "source": [
    "final = pd.DataFrame()"
   ]
  },
  {
   "cell_type": "code",
   "execution_count": 47,
   "id": "9600c0d8",
   "metadata": {
    "execution": {
     "iopub.execute_input": "2022-10-16T12:40:03.117963Z",
     "iopub.status.busy": "2022-10-16T12:40:03.116957Z",
     "iopub.status.idle": "2022-10-16T12:40:03.126441Z",
     "shell.execute_reply": "2022-10-16T12:40:03.125500Z"
    },
    "id": "YzxM3uat59m1",
    "papermill": {
     "duration": 0.141789,
     "end_time": "2022-10-16T12:40:03.128908",
     "exception": false,
     "start_time": "2022-10-16T12:40:02.987119",
     "status": "completed"
    },
    "tags": []
   },
   "outputs": [],
   "source": [
    "final['Date'] = df_test['Date']\n",
    "final['Close'] = df_test['Close']"
   ]
  },
  {
   "cell_type": "code",
   "execution_count": 48,
   "id": "abaab03e",
   "metadata": {
    "execution": {
     "iopub.execute_input": "2022-10-16T12:40:03.388633Z",
     "iopub.status.busy": "2022-10-16T12:40:03.387936Z",
     "iopub.status.idle": "2022-10-16T12:40:03.399133Z",
     "shell.execute_reply": "2022-10-16T12:40:03.398021Z"
    },
    "id": "HSrKuN656KOL",
    "outputId": "95f1181d-cd7f-459c-b1a8-77b09531f465",
    "papermill": {
     "duration": 0.145219,
     "end_time": "2022-10-16T12:40:03.401403",
     "exception": false,
     "start_time": "2022-10-16T12:40:03.256184",
     "status": "completed"
    },
    "tags": []
   },
   "outputs": [
    {
     "data": {
      "text/html": [
       "<div>\n",
       "<style scoped>\n",
       "    .dataframe tbody tr th:only-of-type {\n",
       "        vertical-align: middle;\n",
       "    }\n",
       "\n",
       "    .dataframe tbody tr th {\n",
       "        vertical-align: top;\n",
       "    }\n",
       "\n",
       "    .dataframe thead th {\n",
       "        text-align: right;\n",
       "    }\n",
       "</style>\n",
       "<table border=\"1\" class=\"dataframe\">\n",
       "  <thead>\n",
       "    <tr style=\"text-align: right;\">\n",
       "      <th></th>\n",
       "      <th>Date</th>\n",
       "      <th>Close</th>\n",
       "    </tr>\n",
       "  </thead>\n",
       "  <tbody>\n",
       "    <tr>\n",
       "      <th>0</th>\n",
       "      <td>2022-08-01</td>\n",
       "      <td>2432.584627</td>\n",
       "    </tr>\n",
       "    <tr>\n",
       "      <th>1</th>\n",
       "      <td>2022-08-02</td>\n",
       "      <td>2456.629360</td>\n",
       "    </tr>\n",
       "    <tr>\n",
       "      <th>2</th>\n",
       "      <td>2022-08-03</td>\n",
       "      <td>2467.808772</td>\n",
       "    </tr>\n",
       "    <tr>\n",
       "      <th>3</th>\n",
       "      <td>2022-08-04</td>\n",
       "      <td>2473.560404</td>\n",
       "    </tr>\n",
       "    <tr>\n",
       "      <th>4</th>\n",
       "      <td>2022-08-05</td>\n",
       "      <td>2477.051152</td>\n",
       "    </tr>\n",
       "  </tbody>\n",
       "</table>\n",
       "</div>"
      ],
      "text/plain": [
       "         Date        Close\n",
       "0  2022-08-01  2432.584627\n",
       "1  2022-08-02  2456.629360\n",
       "2  2022-08-03  2467.808772\n",
       "3  2022-08-04  2473.560404\n",
       "4  2022-08-05  2477.051152"
      ]
     },
     "execution_count": 48,
     "metadata": {},
     "output_type": "execute_result"
    }
   ],
   "source": [
    "final.head()"
   ]
  },
  {
   "cell_type": "code",
   "execution_count": 49,
   "id": "0a036837",
   "metadata": {
    "execution": {
     "iopub.execute_input": "2022-10-16T12:40:03.659940Z",
     "iopub.status.busy": "2022-10-16T12:40:03.659511Z",
     "iopub.status.idle": "2022-10-16T12:40:03.668692Z",
     "shell.execute_reply": "2022-10-16T12:40:03.667395Z"
    },
    "papermill": {
     "duration": 0.140728,
     "end_time": "2022-10-16T12:40:03.671116",
     "exception": false,
     "start_time": "2022-10-16T12:40:03.530388",
     "status": "completed"
    },
    "tags": []
   },
   "outputs": [
    {
     "data": {
      "text/plain": [
       "Date      object\n",
       "Close    float64\n",
       "dtype: object"
      ]
     },
     "execution_count": 49,
     "metadata": {},
     "output_type": "execute_result"
    }
   ],
   "source": [
    "final.dtypes\n"
   ]
  },
  {
   "cell_type": "code",
   "execution_count": 50,
   "id": "f7073ea5",
   "metadata": {
    "execution": {
     "iopub.execute_input": "2022-10-16T12:40:03.933013Z",
     "iopub.status.busy": "2022-10-16T12:40:03.931797Z",
     "iopub.status.idle": "2022-10-16T12:40:03.940236Z",
     "shell.execute_reply": "2022-10-16T12:40:03.939375Z"
    },
    "id": "5A_K6cIi6MVp",
    "papermill": {
     "duration": 0.141139,
     "end_time": "2022-10-16T12:40:03.942705",
     "exception": false,
     "start_time": "2022-10-16T12:40:03.801566",
     "status": "completed"
    },
    "tags": []
   },
   "outputs": [],
   "source": [
    "final.to_csv('output.csv')"
   ]
  },
  {
   "cell_type": "code",
   "execution_count": null,
   "id": "e6a12f89",
   "metadata": {
    "papermill": {
     "duration": 0.127298,
     "end_time": "2022-10-16T12:40:04.199238",
     "exception": false,
     "start_time": "2022-10-16T12:40:04.071940",
     "status": "completed"
    },
    "tags": []
   },
   "outputs": [],
   "source": []
  },
  {
   "cell_type": "code",
   "execution_count": null,
   "id": "4769510a",
   "metadata": {
    "id": "0gomEJNy6kcL",
    "papermill": {
     "duration": 0.126999,
     "end_time": "2022-10-16T12:40:04.454070",
     "exception": false,
     "start_time": "2022-10-16T12:40:04.327071",
     "status": "completed"
    },
    "tags": []
   },
   "outputs": [],
   "source": []
  }
 ],
 "metadata": {
  "kernelspec": {
   "display_name": "Python 3",
   "language": "python",
   "name": "python3"
  },
  "language_info": {
   "codemirror_mode": {
    "name": "ipython",
    "version": 3
   },
   "file_extension": ".py",
   "mimetype": "text/x-python",
   "name": "python",
   "nbconvert_exporter": "python",
   "pygments_lexer": "ipython3",
   "version": "3.7.12"
  },
  "papermill": {
   "default_parameters": {},
   "duration": 505.59342,
   "end_time": "2022-10-16T12:40:08.023672",
   "environment_variables": {},
   "exception": null,
   "input_path": "__notebook__.ipynb",
   "output_path": "__notebook__.ipynb",
   "parameters": {},
   "start_time": "2022-10-16T12:31:42.430252",
   "version": "2.3.4"
  }
 },
 "nbformat": 4,
 "nbformat_minor": 5
}
